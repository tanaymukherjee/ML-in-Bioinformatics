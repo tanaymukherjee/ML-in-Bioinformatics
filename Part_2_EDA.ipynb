{
  "nbformat": 4,
  "nbformat_minor": 0,
  "metadata": {
    "colab": {
      "name": "Part_2_EDA.ipynb",
      "provenance": [],
      "collapsed_sections": [],
      "authorship_tag": "ABX9TyOA/x/XO8PcVXVGsSINvWQA",
      "include_colab_link": true
    },
    "kernelspec": {
      "name": "python3",
      "display_name": "Python 3"
    },
    "language_info": {
      "name": "python"
    }
  },
  "cells": [
    {
      "cell_type": "markdown",
      "metadata": {
        "id": "view-in-github",
        "colab_type": "text"
      },
      "source": [
        "<a href=\"https://colab.research.google.com/github/tanaymukherjee/ML-in-Bioinformatics/blob/main/Part_2_EDA.ipynb\" target=\"_parent\"><img src=\"https://colab.research.google.com/assets/colab-badge.svg\" alt=\"Open In Colab\"/></a>"
      ]
    },
    {
      "cell_type": "markdown",
      "metadata": {
        "id": "iojULODeLe_T"
      },
      "source": [
        "# Bioinformatics Project - Computational Drug Discovery [Part 2] - Exploratory Data Analysis"
      ]
    },
    {
      "cell_type": "markdown",
      "metadata": {
        "id": "vCaLreKmLlLd"
      },
      "source": [
        "## Installing libraries"
      ]
    },
    {
      "cell_type": "code",
      "metadata": {
        "colab": {
          "base_uri": "https://localhost:8080/"
        },
        "id": "5u2cKnunLAQD",
        "outputId": "3ce4aca7-c98c-4423-8124-181e03caf247"
      },
      "source": [
        "! wget https://repo.anaconda.com/miniconda/Miniconda3-py37_4.8.2-Linux-x86_64.sh\n",
        "! chmod +x Miniconda3-py37_4.8.2-Linux-x86_64.sh\n",
        "! bash ./Miniconda3-py37_4.8.2-Linux-x86_64.sh -b -f -p /usr/local\n",
        "! conda install -c rdkit rdkit -y\n",
        "import sys\n",
        "sys.path.append('/usr/local/lib/python3.7/site-packages/')"
      ],
      "execution_count": 1,
      "outputs": [
        {
          "output_type": "stream",
          "text": [
            "--2021-07-04 03:20:04--  https://repo.anaconda.com/miniconda/Miniconda3-py37_4.8.2-Linux-x86_64.sh\n",
            "Resolving repo.anaconda.com (repo.anaconda.com)... 104.16.130.3, 104.16.131.3, 2606:4700::6810:8203, ...\n",
            "Connecting to repo.anaconda.com (repo.anaconda.com)|104.16.130.3|:443... connected.\n",
            "HTTP request sent, awaiting response... 200 OK\n",
            "Length: 85055499 (81M) [application/x-sh]\n",
            "Saving to: ‘Miniconda3-py37_4.8.2-Linux-x86_64.sh’\n",
            "\n",
            "Miniconda3-py37_4.8 100%[===================>]  81.12M   169MB/s    in 0.5s    \n",
            "\n",
            "2021-07-04 03:20:05 (169 MB/s) - ‘Miniconda3-py37_4.8.2-Linux-x86_64.sh’ saved [85055499/85055499]\n",
            "\n",
            "PREFIX=/usr/local\n",
            "Unpacking payload ...\n",
            "Collecting package metadata (current_repodata.json): - \b\b\\ \b\b| \b\bdone\n",
            "Solving environment: - \b\b\\ \b\bdone\n",
            "\n",
            "## Package Plan ##\n",
            "\n",
            "  environment location: /usr/local\n",
            "\n",
            "  added / updated specs:\n",
            "    - _libgcc_mutex==0.1=main\n",
            "    - asn1crypto==1.3.0=py37_0\n",
            "    - ca-certificates==2020.1.1=0\n",
            "    - certifi==2019.11.28=py37_0\n",
            "    - cffi==1.14.0=py37h2e261b9_0\n",
            "    - chardet==3.0.4=py37_1003\n",
            "    - conda-package-handling==1.6.0=py37h7b6447c_0\n",
            "    - conda==4.8.2=py37_0\n",
            "    - cryptography==2.8=py37h1ba5d50_0\n",
            "    - idna==2.8=py37_0\n",
            "    - ld_impl_linux-64==2.33.1=h53a641e_7\n",
            "    - libedit==3.1.20181209=hc058e9b_0\n",
            "    - libffi==3.2.1=hd88cf55_4\n",
            "    - libgcc-ng==9.1.0=hdf63c60_0\n",
            "    - libstdcxx-ng==9.1.0=hdf63c60_0\n",
            "    - ncurses==6.2=he6710b0_0\n",
            "    - openssl==1.1.1d=h7b6447c_4\n",
            "    - pip==20.0.2=py37_1\n",
            "    - pycosat==0.6.3=py37h7b6447c_0\n",
            "    - pycparser==2.19=py37_0\n",
            "    - pyopenssl==19.1.0=py37_0\n",
            "    - pysocks==1.7.1=py37_0\n",
            "    - python==3.7.6=h0371630_2\n",
            "    - readline==7.0=h7b6447c_5\n",
            "    - requests==2.22.0=py37_1\n",
            "    - ruamel_yaml==0.15.87=py37h7b6447c_0\n",
            "    - setuptools==45.2.0=py37_0\n",
            "    - six==1.14.0=py37_0\n",
            "    - sqlite==3.31.1=h7b6447c_0\n",
            "    - tk==8.6.8=hbc83047_0\n",
            "    - tqdm==4.42.1=py_0\n",
            "    - urllib3==1.25.8=py37_0\n",
            "    - wheel==0.34.2=py37_0\n",
            "    - xz==5.2.4=h14c3975_4\n",
            "    - yaml==0.1.7=had09818_2\n",
            "    - zlib==1.2.11=h7b6447c_3\n",
            "\n",
            "\n",
            "The following NEW packages will be INSTALLED:\n",
            "\n",
            "  _libgcc_mutex      pkgs/main/linux-64::_libgcc_mutex-0.1-main\n",
            "  asn1crypto         pkgs/main/linux-64::asn1crypto-1.3.0-py37_0\n",
            "  ca-certificates    pkgs/main/linux-64::ca-certificates-2020.1.1-0\n",
            "  certifi            pkgs/main/linux-64::certifi-2019.11.28-py37_0\n",
            "  cffi               pkgs/main/linux-64::cffi-1.14.0-py37h2e261b9_0\n",
            "  chardet            pkgs/main/linux-64::chardet-3.0.4-py37_1003\n",
            "  conda              pkgs/main/linux-64::conda-4.8.2-py37_0\n",
            "  conda-package-han~ pkgs/main/linux-64::conda-package-handling-1.6.0-py37h7b6447c_0\n",
            "  cryptography       pkgs/main/linux-64::cryptography-2.8-py37h1ba5d50_0\n",
            "  idna               pkgs/main/linux-64::idna-2.8-py37_0\n",
            "  ld_impl_linux-64   pkgs/main/linux-64::ld_impl_linux-64-2.33.1-h53a641e_7\n",
            "  libedit            pkgs/main/linux-64::libedit-3.1.20181209-hc058e9b_0\n",
            "  libffi             pkgs/main/linux-64::libffi-3.2.1-hd88cf55_4\n",
            "  libgcc-ng          pkgs/main/linux-64::libgcc-ng-9.1.0-hdf63c60_0\n",
            "  libstdcxx-ng       pkgs/main/linux-64::libstdcxx-ng-9.1.0-hdf63c60_0\n",
            "  ncurses            pkgs/main/linux-64::ncurses-6.2-he6710b0_0\n",
            "  openssl            pkgs/main/linux-64::openssl-1.1.1d-h7b6447c_4\n",
            "  pip                pkgs/main/linux-64::pip-20.0.2-py37_1\n",
            "  pycosat            pkgs/main/linux-64::pycosat-0.6.3-py37h7b6447c_0\n",
            "  pycparser          pkgs/main/linux-64::pycparser-2.19-py37_0\n",
            "  pyopenssl          pkgs/main/linux-64::pyopenssl-19.1.0-py37_0\n",
            "  pysocks            pkgs/main/linux-64::pysocks-1.7.1-py37_0\n",
            "  python             pkgs/main/linux-64::python-3.7.6-h0371630_2\n",
            "  readline           pkgs/main/linux-64::readline-7.0-h7b6447c_5\n",
            "  requests           pkgs/main/linux-64::requests-2.22.0-py37_1\n",
            "  ruamel_yaml        pkgs/main/linux-64::ruamel_yaml-0.15.87-py37h7b6447c_0\n",
            "  setuptools         pkgs/main/linux-64::setuptools-45.2.0-py37_0\n",
            "  six                pkgs/main/linux-64::six-1.14.0-py37_0\n",
            "  sqlite             pkgs/main/linux-64::sqlite-3.31.1-h7b6447c_0\n",
            "  tk                 pkgs/main/linux-64::tk-8.6.8-hbc83047_0\n",
            "  tqdm               pkgs/main/noarch::tqdm-4.42.1-py_0\n",
            "  urllib3            pkgs/main/linux-64::urllib3-1.25.8-py37_0\n",
            "  wheel              pkgs/main/linux-64::wheel-0.34.2-py37_0\n",
            "  xz                 pkgs/main/linux-64::xz-5.2.4-h14c3975_4\n",
            "  yaml               pkgs/main/linux-64::yaml-0.1.7-had09818_2\n",
            "  zlib               pkgs/main/linux-64::zlib-1.2.11-h7b6447c_3\n",
            "\n",
            "\n",
            "Preparing transaction: / \b\b- \b\b\\ \b\b| \b\bdone\n",
            "Executing transaction: - \b\b\\ \b\b| \b\b/ \b\b- \b\b\\ \b\b| \b\b/ \b\b- \b\b\\ \b\b| \b\b/ \b\b- \b\b\\ \b\b| \b\b/ \b\b- \b\b\\ \b\b| \b\b/ \b\bdone\n",
            "installation finished.\n",
            "WARNING:\n",
            "    You currently have a PYTHONPATH environment variable set. This may cause\n",
            "    unexpected behavior when running the Python interpreter in Miniconda3.\n",
            "    For best results, please verify that your PYTHONPATH only points to\n",
            "    directories of packages that are compatible with the Python interpreter\n",
            "    in Miniconda3: /usr/local\n",
            "Collecting package metadata (current_repodata.json): - \b\b\\ \b\b| \b\b/ \b\b- \b\b\\ \b\b| \b\b/ \b\b- \b\b\\ \b\b| \b\b/ \b\b- \b\b\\ \b\b| \b\b/ \b\b- \b\b\\ \b\b| \b\b/ \b\b- \b\b\\ \b\b| \b\b/ \b\bdone\n",
            "Solving environment: \\ \b\b| \b\b/ \b\b- \b\b\\ \b\b| \b\b/ \b\b- \b\b\\ \b\b| \b\b/ \b\bdone\n",
            "\n",
            "## Package Plan ##\n",
            "\n",
            "  environment location: /usr/local\n",
            "\n",
            "  added / updated specs:\n",
            "    - rdkit\n",
            "\n",
            "\n",
            "The following packages will be downloaded:\n",
            "\n",
            "    package                    |            build\n",
            "    ---------------------------|-----------------\n",
            "    blas-1.0                   |              mkl           6 KB\n",
            "    bzip2-1.0.8                |       h7b6447c_0          78 KB\n",
            "    ca-certificates-2021.5.25  |       h06a4308_1         112 KB\n",
            "    cairo-1.16.0               |       hf32fb01_1         1.0 MB\n",
            "    certifi-2021.5.30          |   py37h06a4308_0         139 KB\n",
            "    conda-4.10.3               |   py37h06a4308_0         2.9 MB\n",
            "    fontconfig-2.13.1          |       h6c09931_0         250 KB\n",
            "    freetype-2.10.4            |       h5ab3b9f_0         596 KB\n",
            "    glib-2.68.2                |       h36276a3_0         3.0 MB\n",
            "    icu-58.2                   |       he6710b0_3        10.5 MB\n",
            "    intel-openmp-2021.2.0      |     h06a4308_610         1.3 MB\n",
            "    jpeg-9b                    |       h024ee3a_2         214 KB\n",
            "    lcms2-2.12                 |       h3be6417_0         312 KB\n",
            "    libboost-1.73.0            |      h3ff78a5_11        13.9 MB\n",
            "    libffi-3.3                 |       he6710b0_2          50 KB\n",
            "    libpng-1.6.37              |       hbc83047_0         278 KB\n",
            "    libtiff-4.2.0              |       h85742a9_0         502 KB\n",
            "    libuuid-1.0.3              |       h1bed415_2          15 KB\n",
            "    libwebp-base-1.2.0         |       h27cfd23_0         437 KB\n",
            "    libxcb-1.14                |       h7b6447c_0         505 KB\n",
            "    libxml2-2.9.10             |       hb55368b_3         1.2 MB\n",
            "    lz4-c-1.9.3                |       h2531618_0         186 KB\n",
            "    mkl-2021.2.0               |     h06a4308_296       144.3 MB\n",
            "    mkl-service-2.3.0          |   py37h27cfd23_1          55 KB\n",
            "    mkl_fft-1.3.0              |   py37h42c9631_2         170 KB\n",
            "    mkl_random-1.2.1           |   py37ha9443f7_2         287 KB\n",
            "    numpy-1.20.2               |   py37h2d18471_0          23 KB\n",
            "    numpy-base-1.20.2          |   py37hfae3a4d_0         4.5 MB\n",
            "    olefile-0.46               |           py37_0          50 KB\n",
            "    openssl-1.1.1k             |       h27cfd23_0         2.5 MB\n",
            "    pandas-1.2.5               |   py37h295c915_0         8.5 MB\n",
            "    pcre-8.45                  |       h295c915_0         207 KB\n",
            "    pillow-8.2.0               |   py37he98fc37_0         622 KB\n",
            "    pixman-0.40.0              |       h7b6447c_0         370 KB\n",
            "    py-boost-1.73.0            |  py37ha9443f7_11         204 KB\n",
            "    python-dateutil-2.8.1      |     pyhd3eb1b0_0         221 KB\n",
            "    pytz-2021.1                |     pyhd3eb1b0_0         181 KB\n",
            "    rdkit-2020.09.1.0          |   py37hd50e099_1        25.8 MB  rdkit\n",
            "    xz-5.2.5                   |       h7b6447c_0         341 KB\n",
            "    zstd-1.4.9                 |       haebb681_0         480 KB\n",
            "    ------------------------------------------------------------\n",
            "                                           Total:       226.1 MB\n",
            "\n",
            "The following NEW packages will be INSTALLED:\n",
            "\n",
            "  blas               pkgs/main/linux-64::blas-1.0-mkl\n",
            "  bzip2              pkgs/main/linux-64::bzip2-1.0.8-h7b6447c_0\n",
            "  cairo              pkgs/main/linux-64::cairo-1.16.0-hf32fb01_1\n",
            "  fontconfig         pkgs/main/linux-64::fontconfig-2.13.1-h6c09931_0\n",
            "  freetype           pkgs/main/linux-64::freetype-2.10.4-h5ab3b9f_0\n",
            "  glib               pkgs/main/linux-64::glib-2.68.2-h36276a3_0\n",
            "  icu                pkgs/main/linux-64::icu-58.2-he6710b0_3\n",
            "  intel-openmp       pkgs/main/linux-64::intel-openmp-2021.2.0-h06a4308_610\n",
            "  jpeg               pkgs/main/linux-64::jpeg-9b-h024ee3a_2\n",
            "  lcms2              pkgs/main/linux-64::lcms2-2.12-h3be6417_0\n",
            "  libboost           pkgs/main/linux-64::libboost-1.73.0-h3ff78a5_11\n",
            "  libpng             pkgs/main/linux-64::libpng-1.6.37-hbc83047_0\n",
            "  libtiff            pkgs/main/linux-64::libtiff-4.2.0-h85742a9_0\n",
            "  libuuid            pkgs/main/linux-64::libuuid-1.0.3-h1bed415_2\n",
            "  libwebp-base       pkgs/main/linux-64::libwebp-base-1.2.0-h27cfd23_0\n",
            "  libxcb             pkgs/main/linux-64::libxcb-1.14-h7b6447c_0\n",
            "  libxml2            pkgs/main/linux-64::libxml2-2.9.10-hb55368b_3\n",
            "  lz4-c              pkgs/main/linux-64::lz4-c-1.9.3-h2531618_0\n",
            "  mkl                pkgs/main/linux-64::mkl-2021.2.0-h06a4308_296\n",
            "  mkl-service        pkgs/main/linux-64::mkl-service-2.3.0-py37h27cfd23_1\n",
            "  mkl_fft            pkgs/main/linux-64::mkl_fft-1.3.0-py37h42c9631_2\n",
            "  mkl_random         pkgs/main/linux-64::mkl_random-1.2.1-py37ha9443f7_2\n",
            "  numpy              pkgs/main/linux-64::numpy-1.20.2-py37h2d18471_0\n",
            "  numpy-base         pkgs/main/linux-64::numpy-base-1.20.2-py37hfae3a4d_0\n",
            "  olefile            pkgs/main/linux-64::olefile-0.46-py37_0\n",
            "  pandas             pkgs/main/linux-64::pandas-1.2.5-py37h295c915_0\n",
            "  pcre               pkgs/main/linux-64::pcre-8.45-h295c915_0\n",
            "  pillow             pkgs/main/linux-64::pillow-8.2.0-py37he98fc37_0\n",
            "  pixman             pkgs/main/linux-64::pixman-0.40.0-h7b6447c_0\n",
            "  py-boost           pkgs/main/linux-64::py-boost-1.73.0-py37ha9443f7_11\n",
            "  python-dateutil    pkgs/main/noarch::python-dateutil-2.8.1-pyhd3eb1b0_0\n",
            "  pytz               pkgs/main/noarch::pytz-2021.1-pyhd3eb1b0_0\n",
            "  rdkit              rdkit/linux-64::rdkit-2020.09.1.0-py37hd50e099_1\n",
            "  zstd               pkgs/main/linux-64::zstd-1.4.9-haebb681_0\n",
            "\n",
            "The following packages will be UPDATED:\n",
            "\n",
            "  ca-certificates                                2020.1.1-0 --> 2021.5.25-h06a4308_1\n",
            "  certifi                                 2019.11.28-py37_0 --> 2021.5.30-py37h06a4308_0\n",
            "  conda                                        4.8.2-py37_0 --> 4.10.3-py37h06a4308_0\n",
            "  libffi                                   3.2.1-hd88cf55_4 --> 3.3-he6710b0_2\n",
            "  openssl                                 1.1.1d-h7b6447c_4 --> 1.1.1k-h27cfd23_0\n",
            "  xz                                       5.2.4-h14c3975_4 --> 5.2.5-h7b6447c_0\n",
            "\n",
            "\n",
            "\n",
            "Downloading and Extracting Packages\n",
            "blas-1.0             | 6 KB      | : 100% 1.0/1 [00:00<00:00, 11.69it/s]\n",
            "libboost-1.73.0      | 13.9 MB   | : 100% 1.0/1 [00:02<00:00,  1.30s/it]               \n",
            "mkl-service-2.3.0    | 55 KB     | : 100% 1.0/1 [00:00<00:00, 15.47it/s]\n",
            "glib-2.68.2          | 3.0 MB    | : 100% 1.0/1 [00:00<00:00,  4.47it/s]\n",
            "lcms2-2.12           | 312 KB    | : 100% 1.0/1 [00:00<00:00, 13.58it/s]\n",
            "cairo-1.16.0         | 1.0 MB    | : 100% 1.0/1 [00:00<00:00,  9.44it/s]\n",
            "zstd-1.4.9           | 480 KB    | : 100% 1.0/1 [00:00<00:00, 12.47it/s]\n",
            "numpy-base-1.20.2    | 4.5 MB    | : 100% 1.0/1 [00:00<00:00,  3.31it/s]\n",
            "python-dateutil-2.8. | 221 KB    | : 100% 1.0/1 [00:00<00:00, 17.55it/s]\n",
            "mkl-2021.2.0         | 144.3 MB  | : 100% 1.0/1 [00:06<00:00,  6.46s/it]               \n",
            "numpy-1.20.2         | 23 KB     | : 100% 1.0/1 [00:00<00:00, 13.36it/s]\n",
            "libwebp-base-1.2.0   | 437 KB    | : 100% 1.0/1 [00:01<00:00,  2.00s/it]\n",
            "bzip2-1.0.8          | 78 KB     | : 100% 1.0/1 [00:00<00:00, 19.13it/s]\n",
            "pillow-8.2.0         | 622 KB    | : 100% 1.0/1 [00:00<00:00,  8.68it/s]\n",
            "openssl-1.1.1k       | 2.5 MB    | : 100% 1.0/1 [00:00<00:00,  6.33it/s]\n",
            "libtiff-4.2.0        | 502 KB    | : 100% 1.0/1 [00:00<00:00, 14.92it/s]\n",
            "pandas-1.2.5         | 8.5 MB    | : 100% 1.0/1 [00:00<00:00,  1.72it/s]               \n",
            "libxcb-1.14          | 505 KB    | : 100% 1.0/1 [00:00<00:00, 10.56it/s]\n",
            "intel-openmp-2021.2. | 1.3 MB    | : 100% 1.0/1 [00:00<00:00,  8.45it/s]\n",
            "xz-5.2.5             | 341 KB    | : 100% 1.0/1 [00:00<00:00, 15.51it/s]\n",
            "py-boost-1.73.0      | 204 KB    | : 100% 1.0/1 [00:00<00:00, 14.93it/s]\n",
            "pcre-8.45            | 207 KB    | : 100% 1.0/1 [00:00<00:00, 12.52it/s]\n",
            "libffi-3.3           | 50 KB     | : 100% 1.0/1 [00:00<00:00, 15.08it/s]\n",
            "freetype-2.10.4      | 596 KB    | : 100% 1.0/1 [00:00<00:00, 12.58it/s]\n",
            "mkl_random-1.2.1     | 287 KB    | : 100% 1.0/1 [00:00<00:00, 14.89it/s]\n",
            "fontconfig-2.13.1    | 250 KB    | : 100% 1.0/1 [00:04<00:00,  4.50s/it]\n",
            "olefile-0.46         | 50 KB     | : 100% 1.0/1 [00:00<00:00, 18.31it/s]\n",
            "libpng-1.6.37        | 278 KB    | : 100% 1.0/1 [00:00<00:00, 14.80it/s]\n",
            "ca-certificates-2021 | 112 KB    | : 100% 1.0/1 [00:00<00:00, 16.77it/s]\n",
            "libxml2-2.9.10       | 1.2 MB    | : 100% 1.0/1 [00:00<00:00,  9.00it/s]\n",
            "conda-4.10.3         | 2.9 MB    | : 100% 1.0/1 [00:00<00:00,  6.06it/s]\n",
            "pytz-2021.1          | 181 KB    | : 100% 1.0/1 [00:00<00:00, 10.23it/s]\n",
            "rdkit-2020.09.1.0    | 25.8 MB   | : 100% 1.0/1 [00:06<00:00,  6.32s/it]\n",
            "lz4-c-1.9.3          | 186 KB    | : 100% 1.0/1 [00:00<00:00, 17.50it/s]\n",
            "icu-58.2             | 10.5 MB   | : 100% 1.0/1 [00:00<00:00,  2.40it/s]               \n",
            "mkl_fft-1.3.0        | 170 KB    | : 100% 1.0/1 [00:00<00:00, 17.00it/s]\n",
            "certifi-2021.5.30    | 139 KB    | : 100% 1.0/1 [00:00<00:00, 15.64it/s]\n",
            "libuuid-1.0.3        | 15 KB     | : 100% 1.0/1 [00:00<00:00, 20.50it/s]\n",
            "pixman-0.40.0        | 370 KB    | : 100% 1.0/1 [00:00<00:00, 14.65it/s]\n",
            "jpeg-9b              | 214 KB    | : 100% 1.0/1 [00:00<00:00, 16.86it/s]\n",
            "Preparing transaction: \\ \b\b| \b\b/ \b\b- \b\b\\ \b\b| \b\b/ \b\b- \b\b\\ \b\b| \b\bdone\n",
            "Verifying transaction: - \b\b\\ \b\b| \b\b/ \b\b- \b\b\\ \b\b| \b\b/ \b\b- \b\b\\ \b\b| \b\b/ \b\b- \b\b\\ \b\b| \b\b/ \b\b- \b\b\\ \b\b| \b\b/ \b\b- \b\b\\ \b\b| \b\b/ \b\b- \b\b\\ \b\bdone\n",
            "Executing transaction: / \b\b- \b\b\\ \b\b| \b\b/ \b\b- \b\b\\ \b\b| \b\b/ \b\b- \b\b\\ \b\b| \b\b/ \b\b- \b\b\\ \b\b| \b\b/ \b\b- \b\b\\ \b\b| \b\b/ \b\b- \b\b\\ \b\b| \b\b/ \b\b- \b\b\\ \b\b| \b\b/ \b\b- \b\b\\ \b\b| \b\b/ \b\b- \b\b\\ \b\b| \b\b/ \b\b- \b\b\\ \b\b| \b\b/ \b\b- \b\b\\ \b\b| \b\b/ \b\b- \b\b\\ \b\b| \b\b/ \b\b- \b\b\\ \b\b| \b\b/ \b\b- \b\b\\ \b\b| \b\b/ \b\b- \b\b\\ \b\b| \b\b/ \b\b- \b\b\\ \b\b| \b\b/ \b\b- \b\b\\ \b\b| \b\b/ \b\b- \b\b\\ \b\b| \b\b/ \b\b- \b\b\\ \b\b| \b\b/ \b\b- \b\b\\ \b\b| \b\b/ \b\b- \b\b\\ \b\b| \b\b/ \b\b- \b\b\\ \b\b| \b\b/ \b\b- \b\b\\ \b\b| \b\b/ \b\b- \b\b\\ \b\b| \b\b/ \b\b- \b\b\\ \b\b| \b\b/ \b\b- \b\b\\ \b\b| \b\b/ \b\b- \b\b\\ \b\b| \b\b/ \b\b- \b\b\\ \b\b| \b\b/ \b\b- \b\b\\ \b\b| \b\b/ \b\b- \b\b\\ \b\b| \b\b/ \b\b- \b\b\\ \b\b| \b\b/ \b\b- \b\b\\ \b\b| \b\b/ \b\b- \b\b\\ \b\b| \b\b/ \b\b- \b\b\\ \b\b| \b\b/ \b\b- \b\b\\ \b\b| \b\b/ \b\b- \b\b\\ \b\b| \b\b/ \b\b- \b\b\\ \b\b| \b\b/ \b\b- \b\b\\ \b\b| \b\b/ \b\b- \b\b\\ \b\b| \b\b/ \b\b- \b\b\\ \b\b| \b\b/ \b\b- \b\b\\ \b\b| \b\b/ \b\b- \b\b\\ \b\b| \b\b/ \b\b- \b\b\\ \b\b| \b\b/ \b\b- \b\b\\ \b\b| \b\b/ \b\bdone\n"
          ],
          "name": "stdout"
        }
      ]
    },
    {
      "cell_type": "markdown",
      "metadata": {
        "id": "PDdLSxq2L0H2"
      },
      "source": [
        "## Load bioactivity data"
      ]
    },
    {
      "cell_type": "code",
      "metadata": {
        "colab": {
          "base_uri": "https://localhost:8080/"
        },
        "id": "FPhBke1kLwAN",
        "outputId": "37fe5c17-4b8e-434e-9ff0-04da432a12ea"
      },
      "source": [
        "! wget https://raw.githubusercontent.com/dataprofessor/data/master/acetylcholinesterase_03_bioactivity_data_curated.csv"
      ],
      "execution_count": 2,
      "outputs": [
        {
          "output_type": "stream",
          "text": [
            "--2021-07-04 03:21:24--  https://raw.githubusercontent.com/dataprofessor/data/master/acetylcholinesterase_03_bioactivity_data_curated.csv\n",
            "Resolving raw.githubusercontent.com (raw.githubusercontent.com)... 185.199.109.133, 185.199.111.133, 185.199.110.133, ...\n",
            "Connecting to raw.githubusercontent.com (raw.githubusercontent.com)|185.199.109.133|:443... connected.\n",
            "HTTP request sent, awaiting response... 200 OK\n",
            "Length: 385924 (377K) [text/plain]\n",
            "Saving to: ‘acetylcholinesterase_03_bioactivity_data_curated.csv’\n",
            "\n",
            "acetylcholinesteras 100%[===================>] 376.88K  --.-KB/s    in 0.05s   \n",
            "\n",
            "2021-07-04 03:21:25 (7.03 MB/s) - ‘acetylcholinesterase_03_bioactivity_data_curated.csv’ saved [385924/385924]\n",
            "\n"
          ],
          "name": "stdout"
        }
      ]
    },
    {
      "cell_type": "code",
      "metadata": {
        "id": "qyTA1m5ZL52-"
      },
      "source": [
        "import pandas as pd"
      ],
      "execution_count": 3,
      "outputs": []
    },
    {
      "cell_type": "code",
      "metadata": {
        "colab": {
          "base_uri": "https://localhost:8080/",
          "height": 421
        },
        "id": "CZIkRZNoL6n2",
        "outputId": "e02ea7ae-a7d2-4773-c9f5-2f86ec1ff490"
      },
      "source": [
        "df = pd.read_csv('acetylcholinesterase_03_bioactivity_data_curated.csv')\n",
        "df"
      ],
      "execution_count": 4,
      "outputs": [
        {
          "output_type": "execute_result",
          "data": {
            "text/html": [
              "<div>\n",
              "<style scoped>\n",
              "    .dataframe tbody tr th:only-of-type {\n",
              "        vertical-align: middle;\n",
              "    }\n",
              "\n",
              "    .dataframe tbody tr th {\n",
              "        vertical-align: top;\n",
              "    }\n",
              "\n",
              "    .dataframe thead th {\n",
              "        text-align: right;\n",
              "    }\n",
              "</style>\n",
              "<table border=\"1\" class=\"dataframe\">\n",
              "  <thead>\n",
              "    <tr style=\"text-align: right;\">\n",
              "      <th></th>\n",
              "      <th>molecule_chembl_id</th>\n",
              "      <th>canonical_smiles</th>\n",
              "      <th>standard_value</th>\n",
              "      <th>class</th>\n",
              "    </tr>\n",
              "  </thead>\n",
              "  <tbody>\n",
              "    <tr>\n",
              "      <th>0</th>\n",
              "      <td>CHEMBL133897</td>\n",
              "      <td>CCOc1nn(-c2cccc(OCc3ccccc3)c2)c(=O)o1</td>\n",
              "      <td>750.0</td>\n",
              "      <td>active</td>\n",
              "    </tr>\n",
              "    <tr>\n",
              "      <th>1</th>\n",
              "      <td>CHEMBL336398</td>\n",
              "      <td>O=C(N1CCCCC1)n1nc(-c2ccc(Cl)cc2)nc1SCC1CC1</td>\n",
              "      <td>100.0</td>\n",
              "      <td>active</td>\n",
              "    </tr>\n",
              "    <tr>\n",
              "      <th>2</th>\n",
              "      <td>CHEMBL131588</td>\n",
              "      <td>CN(C(=O)n1nc(-c2ccc(Cl)cc2)nc1SCC(F)(F)F)c1ccccc1</td>\n",
              "      <td>50000.0</td>\n",
              "      <td>inactive</td>\n",
              "    </tr>\n",
              "    <tr>\n",
              "      <th>3</th>\n",
              "      <td>CHEMBL130628</td>\n",
              "      <td>O=C(N1CCCCC1)n1nc(-c2ccc(Cl)cc2)nc1SCC(F)(F)F</td>\n",
              "      <td>300.0</td>\n",
              "      <td>active</td>\n",
              "    </tr>\n",
              "    <tr>\n",
              "      <th>4</th>\n",
              "      <td>CHEMBL130478</td>\n",
              "      <td>CSc1nc(-c2ccc(OC(F)(F)F)cc2)nn1C(=O)N(C)C</td>\n",
              "      <td>800.0</td>\n",
              "      <td>active</td>\n",
              "    </tr>\n",
              "    <tr>\n",
              "      <th>...</th>\n",
              "      <td>...</td>\n",
              "      <td>...</td>\n",
              "      <td>...</td>\n",
              "      <td>...</td>\n",
              "    </tr>\n",
              "    <tr>\n",
              "      <th>4690</th>\n",
              "      <td>CHEMBL4293155</td>\n",
              "      <td>CC(C)(C)c1cc(/C=C/C(=O)NCCC2CCN(Cc3ccccc3Cl)CC...</td>\n",
              "      <td>2440.0</td>\n",
              "      <td>intermediate</td>\n",
              "    </tr>\n",
              "    <tr>\n",
              "      <th>4691</th>\n",
              "      <td>CHEMBL4282558</td>\n",
              "      <td>CC(C)(C)c1cc(/C=C/C(=O)NCCC2CCN(Cc3cccc(Cl)c3)...</td>\n",
              "      <td>2540.0</td>\n",
              "      <td>intermediate</td>\n",
              "    </tr>\n",
              "    <tr>\n",
              "      <th>4692</th>\n",
              "      <td>CHEMBL4281727</td>\n",
              "      <td>CC(C)(C)c1cc(/C=C/C(=O)NCCC2CCN(Cc3ccc(Br)cc3)...</td>\n",
              "      <td>3810.0</td>\n",
              "      <td>intermediate</td>\n",
              "    </tr>\n",
              "    <tr>\n",
              "      <th>4693</th>\n",
              "      <td>CHEMBL4292349</td>\n",
              "      <td>CC(C)(C)c1cc(/C=C/C(=O)NCCC2CCN(Cc3cccc([N+](=...</td>\n",
              "      <td>3460.0</td>\n",
              "      <td>intermediate</td>\n",
              "    </tr>\n",
              "    <tr>\n",
              "      <th>4694</th>\n",
              "      <td>CHEMBL4278260</td>\n",
              "      <td>CC(C)(C)c1cc(/C=C/C(=O)NCCC2CCN(Cc3ccc(C#N)cc3...</td>\n",
              "      <td>2780.0</td>\n",
              "      <td>intermediate</td>\n",
              "    </tr>\n",
              "  </tbody>\n",
              "</table>\n",
              "<p>4695 rows × 4 columns</p>\n",
              "</div>"
            ],
            "text/plain": [
              "     molecule_chembl_id  ...         class\n",
              "0          CHEMBL133897  ...        active\n",
              "1          CHEMBL336398  ...        active\n",
              "2          CHEMBL131588  ...      inactive\n",
              "3          CHEMBL130628  ...        active\n",
              "4          CHEMBL130478  ...        active\n",
              "...                 ...  ...           ...\n",
              "4690      CHEMBL4293155  ...  intermediate\n",
              "4691      CHEMBL4282558  ...  intermediate\n",
              "4692      CHEMBL4281727  ...  intermediate\n",
              "4693      CHEMBL4292349  ...  intermediate\n",
              "4694      CHEMBL4278260  ...  intermediate\n",
              "\n",
              "[4695 rows x 4 columns]"
            ]
          },
          "metadata": {
            "tags": []
          },
          "execution_count": 4
        }
      ]
    },
    {
      "cell_type": "code",
      "metadata": {
        "colab": {
          "base_uri": "https://localhost:8080/",
          "height": 205
        },
        "id": "0m3sknqznqzk",
        "outputId": "5f332cdd-be29-46ef-ad89-4aac312a717f"
      },
      "source": [
        "df.head(5)"
      ],
      "execution_count": 5,
      "outputs": [
        {
          "output_type": "execute_result",
          "data": {
            "text/html": [
              "<div>\n",
              "<style scoped>\n",
              "    .dataframe tbody tr th:only-of-type {\n",
              "        vertical-align: middle;\n",
              "    }\n",
              "\n",
              "    .dataframe tbody tr th {\n",
              "        vertical-align: top;\n",
              "    }\n",
              "\n",
              "    .dataframe thead th {\n",
              "        text-align: right;\n",
              "    }\n",
              "</style>\n",
              "<table border=\"1\" class=\"dataframe\">\n",
              "  <thead>\n",
              "    <tr style=\"text-align: right;\">\n",
              "      <th></th>\n",
              "      <th>molecule_chembl_id</th>\n",
              "      <th>canonical_smiles</th>\n",
              "      <th>standard_value</th>\n",
              "      <th>class</th>\n",
              "    </tr>\n",
              "  </thead>\n",
              "  <tbody>\n",
              "    <tr>\n",
              "      <th>0</th>\n",
              "      <td>CHEMBL133897</td>\n",
              "      <td>CCOc1nn(-c2cccc(OCc3ccccc3)c2)c(=O)o1</td>\n",
              "      <td>750.0</td>\n",
              "      <td>active</td>\n",
              "    </tr>\n",
              "    <tr>\n",
              "      <th>1</th>\n",
              "      <td>CHEMBL336398</td>\n",
              "      <td>O=C(N1CCCCC1)n1nc(-c2ccc(Cl)cc2)nc1SCC1CC1</td>\n",
              "      <td>100.0</td>\n",
              "      <td>active</td>\n",
              "    </tr>\n",
              "    <tr>\n",
              "      <th>2</th>\n",
              "      <td>CHEMBL131588</td>\n",
              "      <td>CN(C(=O)n1nc(-c2ccc(Cl)cc2)nc1SCC(F)(F)F)c1ccccc1</td>\n",
              "      <td>50000.0</td>\n",
              "      <td>inactive</td>\n",
              "    </tr>\n",
              "    <tr>\n",
              "      <th>3</th>\n",
              "      <td>CHEMBL130628</td>\n",
              "      <td>O=C(N1CCCCC1)n1nc(-c2ccc(Cl)cc2)nc1SCC(F)(F)F</td>\n",
              "      <td>300.0</td>\n",
              "      <td>active</td>\n",
              "    </tr>\n",
              "    <tr>\n",
              "      <th>4</th>\n",
              "      <td>CHEMBL130478</td>\n",
              "      <td>CSc1nc(-c2ccc(OC(F)(F)F)cc2)nn1C(=O)N(C)C</td>\n",
              "      <td>800.0</td>\n",
              "      <td>active</td>\n",
              "    </tr>\n",
              "  </tbody>\n",
              "</table>\n",
              "</div>"
            ],
            "text/plain": [
              "  molecule_chembl_id  ...     class\n",
              "0       CHEMBL133897  ...    active\n",
              "1       CHEMBL336398  ...    active\n",
              "2       CHEMBL131588  ...  inactive\n",
              "3       CHEMBL130628  ...    active\n",
              "4       CHEMBL130478  ...    active\n",
              "\n",
              "[5 rows x 4 columns]"
            ]
          },
          "metadata": {
            "tags": []
          },
          "execution_count": 5
        }
      ]
    },
    {
      "cell_type": "code",
      "metadata": {
        "id": "CTmtb1idL_HO"
      },
      "source": [
        "df_no_smiles = df.drop(columns='canonical_smiles')"
      ],
      "execution_count": 6,
      "outputs": []
    },
    {
      "cell_type": "code",
      "metadata": {
        "id": "qtDmxPr5MDUu"
      },
      "source": [
        "smiles = []\n",
        "\n",
        "for i in df.canonical_smiles.tolist():\n",
        "  cpd = str(i).split('.')\n",
        "  cpd_longest = max(cpd, key = len)\n",
        "  smiles.append(cpd_longest)\n",
        "\n",
        "smiles = pd.Series(smiles, name = 'canonical_smiles')"
      ],
      "execution_count": 7,
      "outputs": []
    },
    {
      "cell_type": "code",
      "metadata": {
        "colab": {
          "base_uri": "https://localhost:8080/",
          "height": 421
        },
        "id": "q1Pu9rh5MFb-",
        "outputId": "3c7169f8-1d99-4c43-89c0-4d655bdd27cd"
      },
      "source": [
        "df_clean_smiles = pd.concat([df_no_smiles,smiles], axis=1)\n",
        "df_clean_smiles"
      ],
      "execution_count": 8,
      "outputs": [
        {
          "output_type": "execute_result",
          "data": {
            "text/html": [
              "<div>\n",
              "<style scoped>\n",
              "    .dataframe tbody tr th:only-of-type {\n",
              "        vertical-align: middle;\n",
              "    }\n",
              "\n",
              "    .dataframe tbody tr th {\n",
              "        vertical-align: top;\n",
              "    }\n",
              "\n",
              "    .dataframe thead th {\n",
              "        text-align: right;\n",
              "    }\n",
              "</style>\n",
              "<table border=\"1\" class=\"dataframe\">\n",
              "  <thead>\n",
              "    <tr style=\"text-align: right;\">\n",
              "      <th></th>\n",
              "      <th>molecule_chembl_id</th>\n",
              "      <th>standard_value</th>\n",
              "      <th>class</th>\n",
              "      <th>canonical_smiles</th>\n",
              "    </tr>\n",
              "  </thead>\n",
              "  <tbody>\n",
              "    <tr>\n",
              "      <th>0</th>\n",
              "      <td>CHEMBL133897</td>\n",
              "      <td>750.0</td>\n",
              "      <td>active</td>\n",
              "      <td>CCOc1nn(-c2cccc(OCc3ccccc3)c2)c(=O)o1</td>\n",
              "    </tr>\n",
              "    <tr>\n",
              "      <th>1</th>\n",
              "      <td>CHEMBL336398</td>\n",
              "      <td>100.0</td>\n",
              "      <td>active</td>\n",
              "      <td>O=C(N1CCCCC1)n1nc(-c2ccc(Cl)cc2)nc1SCC1CC1</td>\n",
              "    </tr>\n",
              "    <tr>\n",
              "      <th>2</th>\n",
              "      <td>CHEMBL131588</td>\n",
              "      <td>50000.0</td>\n",
              "      <td>inactive</td>\n",
              "      <td>CN(C(=O)n1nc(-c2ccc(Cl)cc2)nc1SCC(F)(F)F)c1ccccc1</td>\n",
              "    </tr>\n",
              "    <tr>\n",
              "      <th>3</th>\n",
              "      <td>CHEMBL130628</td>\n",
              "      <td>300.0</td>\n",
              "      <td>active</td>\n",
              "      <td>O=C(N1CCCCC1)n1nc(-c2ccc(Cl)cc2)nc1SCC(F)(F)F</td>\n",
              "    </tr>\n",
              "    <tr>\n",
              "      <th>4</th>\n",
              "      <td>CHEMBL130478</td>\n",
              "      <td>800.0</td>\n",
              "      <td>active</td>\n",
              "      <td>CSc1nc(-c2ccc(OC(F)(F)F)cc2)nn1C(=O)N(C)C</td>\n",
              "    </tr>\n",
              "    <tr>\n",
              "      <th>...</th>\n",
              "      <td>...</td>\n",
              "      <td>...</td>\n",
              "      <td>...</td>\n",
              "      <td>...</td>\n",
              "    </tr>\n",
              "    <tr>\n",
              "      <th>4690</th>\n",
              "      <td>CHEMBL4293155</td>\n",
              "      <td>2440.0</td>\n",
              "      <td>intermediate</td>\n",
              "      <td>CC(C)(C)c1cc(/C=C/C(=O)NCCC2CCN(Cc3ccccc3Cl)CC...</td>\n",
              "    </tr>\n",
              "    <tr>\n",
              "      <th>4691</th>\n",
              "      <td>CHEMBL4282558</td>\n",
              "      <td>2540.0</td>\n",
              "      <td>intermediate</td>\n",
              "      <td>CC(C)(C)c1cc(/C=C/C(=O)NCCC2CCN(Cc3cccc(Cl)c3)...</td>\n",
              "    </tr>\n",
              "    <tr>\n",
              "      <th>4692</th>\n",
              "      <td>CHEMBL4281727</td>\n",
              "      <td>3810.0</td>\n",
              "      <td>intermediate</td>\n",
              "      <td>CC(C)(C)c1cc(/C=C/C(=O)NCCC2CCN(Cc3ccc(Br)cc3)...</td>\n",
              "    </tr>\n",
              "    <tr>\n",
              "      <th>4693</th>\n",
              "      <td>CHEMBL4292349</td>\n",
              "      <td>3460.0</td>\n",
              "      <td>intermediate</td>\n",
              "      <td>CC(C)(C)c1cc(/C=C/C(=O)NCCC2CCN(Cc3cccc([N+](=...</td>\n",
              "    </tr>\n",
              "    <tr>\n",
              "      <th>4694</th>\n",
              "      <td>CHEMBL4278260</td>\n",
              "      <td>2780.0</td>\n",
              "      <td>intermediate</td>\n",
              "      <td>CC(C)(C)c1cc(/C=C/C(=O)NCCC2CCN(Cc3ccc(C#N)cc3...</td>\n",
              "    </tr>\n",
              "  </tbody>\n",
              "</table>\n",
              "<p>4695 rows × 4 columns</p>\n",
              "</div>"
            ],
            "text/plain": [
              "     molecule_chembl_id  ...                                   canonical_smiles\n",
              "0          CHEMBL133897  ...              CCOc1nn(-c2cccc(OCc3ccccc3)c2)c(=O)o1\n",
              "1          CHEMBL336398  ...         O=C(N1CCCCC1)n1nc(-c2ccc(Cl)cc2)nc1SCC1CC1\n",
              "2          CHEMBL131588  ...  CN(C(=O)n1nc(-c2ccc(Cl)cc2)nc1SCC(F)(F)F)c1ccccc1\n",
              "3          CHEMBL130628  ...      O=C(N1CCCCC1)n1nc(-c2ccc(Cl)cc2)nc1SCC(F)(F)F\n",
              "4          CHEMBL130478  ...          CSc1nc(-c2ccc(OC(F)(F)F)cc2)nn1C(=O)N(C)C\n",
              "...                 ...  ...                                                ...\n",
              "4690      CHEMBL4293155  ...  CC(C)(C)c1cc(/C=C/C(=O)NCCC2CCN(Cc3ccccc3Cl)CC...\n",
              "4691      CHEMBL4282558  ...  CC(C)(C)c1cc(/C=C/C(=O)NCCC2CCN(Cc3cccc(Cl)c3)...\n",
              "4692      CHEMBL4281727  ...  CC(C)(C)c1cc(/C=C/C(=O)NCCC2CCN(Cc3ccc(Br)cc3)...\n",
              "4693      CHEMBL4292349  ...  CC(C)(C)c1cc(/C=C/C(=O)NCCC2CCN(Cc3cccc([N+](=...\n",
              "4694      CHEMBL4278260  ...  CC(C)(C)c1cc(/C=C/C(=O)NCCC2CCN(Cc3ccc(C#N)cc3...\n",
              "\n",
              "[4695 rows x 4 columns]"
            ]
          },
          "metadata": {
            "tags": []
          },
          "execution_count": 8
        }
      ]
    },
    {
      "cell_type": "markdown",
      "metadata": {
        "id": "i9He2KfyMJl-"
      },
      "source": [
        "## Calculate Lipinski descriptors\n",
        "Christopher Lipinski, a scientist at Pfizer, came up with a set of rule-of-thumb for evaluating the druglikeness of compounds. Such druglikeness is based on the Absorption, Distribution, Metabolism and Excretion (ADME) that is also known as the pharmacokinetic profile. Lipinski analyzed all orally active FDA-approved drugs in the formulation of what is to be known as the Rule-of-Five or Lipinski's Rule.\n",
        "\n",
        "The Lipinski's Rule stated the following:\n",
        "\n",
        "Molecular weight < 500 Dalton\n",
        "Octanol-water partition coefficient (LogP) < 5\n",
        "Hydrogen bond donors < 5\n",
        "Hydrogen bond acceptors < 10"
      ]
    },
    {
      "cell_type": "code",
      "metadata": {
        "id": "9_dOcw-GMQuu"
      },
      "source": [
        "import numpy as np\n",
        "from rdkit import Chem\n",
        "from rdkit.Chem import Descriptors, Lipinski"
      ],
      "execution_count": 9,
      "outputs": []
    },
    {
      "cell_type": "markdown",
      "metadata": {
        "id": "J8OIBco4MT6-"
      },
      "source": [
        "## Calculate descriptors"
      ]
    },
    {
      "cell_type": "code",
      "metadata": {
        "id": "I2_i4oAlh9b0"
      },
      "source": [
        "# Inspired by: https://codeocean.com/explore/capsules?query=tag:data-curation\n",
        "\n",
        "def lipinski(smiles, verbose=False):\n",
        "\n",
        "    moldata= []\n",
        "    for elem in smiles:\n",
        "        mol=Chem.MolFromSmiles(elem) \n",
        "        moldata.append(mol)\n",
        "       \n",
        "    baseData= np.arange(1,1)\n",
        "    i=0  \n",
        "    for mol in moldata:        \n",
        "       \n",
        "        desc_MolWt = Descriptors.MolWt(mol)\n",
        "        desc_MolLogP = Descriptors.MolLogP(mol)\n",
        "        desc_NumHDonors = Lipinski.NumHDonors(mol)\n",
        "        desc_NumHAcceptors = Lipinski.NumHAcceptors(mol)\n",
        "           \n",
        "        row = np.array([desc_MolWt,\n",
        "                        desc_MolLogP,\n",
        "                        desc_NumHDonors,\n",
        "                        desc_NumHAcceptors])   \n",
        "    \n",
        "        if(i==0):\n",
        "            baseData=row\n",
        "        else:\n",
        "            baseData=np.vstack([baseData, row])\n",
        "        i=i+1      \n",
        "    \n",
        "    columnNames=[\"MW\",\"LogP\",\"NumHDonors\",\"NumHAcceptors\"]   \n",
        "    descriptors = pd.DataFrame(data=baseData,columns=columnNames)\n",
        "    \n",
        "    return descriptors"
      ],
      "execution_count": 10,
      "outputs": []
    },
    {
      "cell_type": "code",
      "metadata": {
        "colab": {
          "base_uri": "https://localhost:8080/",
          "height": 421
        },
        "id": "hElb4Q3ViCve",
        "outputId": "a64dd719-28a3-479a-f986-6e8698b9e7a4"
      },
      "source": [
        "df_lipinski = lipinski(df_clean_smiles.canonical_smiles)\n",
        "df_lipinski"
      ],
      "execution_count": 11,
      "outputs": [
        {
          "output_type": "execute_result",
          "data": {
            "text/html": [
              "<div>\n",
              "<style scoped>\n",
              "    .dataframe tbody tr th:only-of-type {\n",
              "        vertical-align: middle;\n",
              "    }\n",
              "\n",
              "    .dataframe tbody tr th {\n",
              "        vertical-align: top;\n",
              "    }\n",
              "\n",
              "    .dataframe thead th {\n",
              "        text-align: right;\n",
              "    }\n",
              "</style>\n",
              "<table border=\"1\" class=\"dataframe\">\n",
              "  <thead>\n",
              "    <tr style=\"text-align: right;\">\n",
              "      <th></th>\n",
              "      <th>MW</th>\n",
              "      <th>LogP</th>\n",
              "      <th>NumHDonors</th>\n",
              "      <th>NumHAcceptors</th>\n",
              "    </tr>\n",
              "  </thead>\n",
              "  <tbody>\n",
              "    <tr>\n",
              "      <th>0</th>\n",
              "      <td>312.325</td>\n",
              "      <td>2.80320</td>\n",
              "      <td>0.0</td>\n",
              "      <td>6.0</td>\n",
              "    </tr>\n",
              "    <tr>\n",
              "      <th>1</th>\n",
              "      <td>376.913</td>\n",
              "      <td>4.55460</td>\n",
              "      <td>0.0</td>\n",
              "      <td>5.0</td>\n",
              "    </tr>\n",
              "    <tr>\n",
              "      <th>2</th>\n",
              "      <td>426.851</td>\n",
              "      <td>5.35740</td>\n",
              "      <td>0.0</td>\n",
              "      <td>5.0</td>\n",
              "    </tr>\n",
              "    <tr>\n",
              "      <th>3</th>\n",
              "      <td>404.845</td>\n",
              "      <td>4.70690</td>\n",
              "      <td>0.0</td>\n",
              "      <td>5.0</td>\n",
              "    </tr>\n",
              "    <tr>\n",
              "      <th>4</th>\n",
              "      <td>346.334</td>\n",
              "      <td>3.09530</td>\n",
              "      <td>0.0</td>\n",
              "      <td>6.0</td>\n",
              "    </tr>\n",
              "    <tr>\n",
              "      <th>...</th>\n",
              "      <td>...</td>\n",
              "      <td>...</td>\n",
              "      <td>...</td>\n",
              "      <td>...</td>\n",
              "    </tr>\n",
              "    <tr>\n",
              "      <th>4690</th>\n",
              "      <td>511.150</td>\n",
              "      <td>7.07230</td>\n",
              "      <td>2.0</td>\n",
              "      <td>3.0</td>\n",
              "    </tr>\n",
              "    <tr>\n",
              "      <th>4691</th>\n",
              "      <td>511.150</td>\n",
              "      <td>7.07230</td>\n",
              "      <td>2.0</td>\n",
              "      <td>3.0</td>\n",
              "    </tr>\n",
              "    <tr>\n",
              "      <th>4692</th>\n",
              "      <td>555.601</td>\n",
              "      <td>7.18140</td>\n",
              "      <td>2.0</td>\n",
              "      <td>3.0</td>\n",
              "    </tr>\n",
              "    <tr>\n",
              "      <th>4693</th>\n",
              "      <td>521.702</td>\n",
              "      <td>6.32710</td>\n",
              "      <td>2.0</td>\n",
              "      <td>5.0</td>\n",
              "    </tr>\n",
              "    <tr>\n",
              "      <th>4694</th>\n",
              "      <td>501.715</td>\n",
              "      <td>6.29058</td>\n",
              "      <td>2.0</td>\n",
              "      <td>4.0</td>\n",
              "    </tr>\n",
              "  </tbody>\n",
              "</table>\n",
              "<p>4695 rows × 4 columns</p>\n",
              "</div>"
            ],
            "text/plain": [
              "           MW     LogP  NumHDonors  NumHAcceptors\n",
              "0     312.325  2.80320         0.0            6.0\n",
              "1     376.913  4.55460         0.0            5.0\n",
              "2     426.851  5.35740         0.0            5.0\n",
              "3     404.845  4.70690         0.0            5.0\n",
              "4     346.334  3.09530         0.0            6.0\n",
              "...       ...      ...         ...            ...\n",
              "4690  511.150  7.07230         2.0            3.0\n",
              "4691  511.150  7.07230         2.0            3.0\n",
              "4692  555.601  7.18140         2.0            3.0\n",
              "4693  521.702  6.32710         2.0            5.0\n",
              "4694  501.715  6.29058         2.0            4.0\n",
              "\n",
              "[4695 rows x 4 columns]"
            ]
          },
          "metadata": {
            "tags": []
          },
          "execution_count": 11
        }
      ]
    },
    {
      "cell_type": "code",
      "metadata": {
        "colab": {
          "base_uri": "https://localhost:8080/",
          "height": 421
        },
        "id": "YUdwZEKKiG01",
        "outputId": "c9cec107-389e-410c-9977-306de6f961cd"
      },
      "source": [
        "df_lipinski"
      ],
      "execution_count": 12,
      "outputs": [
        {
          "output_type": "execute_result",
          "data": {
            "text/html": [
              "<div>\n",
              "<style scoped>\n",
              "    .dataframe tbody tr th:only-of-type {\n",
              "        vertical-align: middle;\n",
              "    }\n",
              "\n",
              "    .dataframe tbody tr th {\n",
              "        vertical-align: top;\n",
              "    }\n",
              "\n",
              "    .dataframe thead th {\n",
              "        text-align: right;\n",
              "    }\n",
              "</style>\n",
              "<table border=\"1\" class=\"dataframe\">\n",
              "  <thead>\n",
              "    <tr style=\"text-align: right;\">\n",
              "      <th></th>\n",
              "      <th>MW</th>\n",
              "      <th>LogP</th>\n",
              "      <th>NumHDonors</th>\n",
              "      <th>NumHAcceptors</th>\n",
              "    </tr>\n",
              "  </thead>\n",
              "  <tbody>\n",
              "    <tr>\n",
              "      <th>0</th>\n",
              "      <td>312.325</td>\n",
              "      <td>2.80320</td>\n",
              "      <td>0.0</td>\n",
              "      <td>6.0</td>\n",
              "    </tr>\n",
              "    <tr>\n",
              "      <th>1</th>\n",
              "      <td>376.913</td>\n",
              "      <td>4.55460</td>\n",
              "      <td>0.0</td>\n",
              "      <td>5.0</td>\n",
              "    </tr>\n",
              "    <tr>\n",
              "      <th>2</th>\n",
              "      <td>426.851</td>\n",
              "      <td>5.35740</td>\n",
              "      <td>0.0</td>\n",
              "      <td>5.0</td>\n",
              "    </tr>\n",
              "    <tr>\n",
              "      <th>3</th>\n",
              "      <td>404.845</td>\n",
              "      <td>4.70690</td>\n",
              "      <td>0.0</td>\n",
              "      <td>5.0</td>\n",
              "    </tr>\n",
              "    <tr>\n",
              "      <th>4</th>\n",
              "      <td>346.334</td>\n",
              "      <td>3.09530</td>\n",
              "      <td>0.0</td>\n",
              "      <td>6.0</td>\n",
              "    </tr>\n",
              "    <tr>\n",
              "      <th>...</th>\n",
              "      <td>...</td>\n",
              "      <td>...</td>\n",
              "      <td>...</td>\n",
              "      <td>...</td>\n",
              "    </tr>\n",
              "    <tr>\n",
              "      <th>4690</th>\n",
              "      <td>511.150</td>\n",
              "      <td>7.07230</td>\n",
              "      <td>2.0</td>\n",
              "      <td>3.0</td>\n",
              "    </tr>\n",
              "    <tr>\n",
              "      <th>4691</th>\n",
              "      <td>511.150</td>\n",
              "      <td>7.07230</td>\n",
              "      <td>2.0</td>\n",
              "      <td>3.0</td>\n",
              "    </tr>\n",
              "    <tr>\n",
              "      <th>4692</th>\n",
              "      <td>555.601</td>\n",
              "      <td>7.18140</td>\n",
              "      <td>2.0</td>\n",
              "      <td>3.0</td>\n",
              "    </tr>\n",
              "    <tr>\n",
              "      <th>4693</th>\n",
              "      <td>521.702</td>\n",
              "      <td>6.32710</td>\n",
              "      <td>2.0</td>\n",
              "      <td>5.0</td>\n",
              "    </tr>\n",
              "    <tr>\n",
              "      <th>4694</th>\n",
              "      <td>501.715</td>\n",
              "      <td>6.29058</td>\n",
              "      <td>2.0</td>\n",
              "      <td>4.0</td>\n",
              "    </tr>\n",
              "  </tbody>\n",
              "</table>\n",
              "<p>4695 rows × 4 columns</p>\n",
              "</div>"
            ],
            "text/plain": [
              "           MW     LogP  NumHDonors  NumHAcceptors\n",
              "0     312.325  2.80320         0.0            6.0\n",
              "1     376.913  4.55460         0.0            5.0\n",
              "2     426.851  5.35740         0.0            5.0\n",
              "3     404.845  4.70690         0.0            5.0\n",
              "4     346.334  3.09530         0.0            6.0\n",
              "...       ...      ...         ...            ...\n",
              "4690  511.150  7.07230         2.0            3.0\n",
              "4691  511.150  7.07230         2.0            3.0\n",
              "4692  555.601  7.18140         2.0            3.0\n",
              "4693  521.702  6.32710         2.0            5.0\n",
              "4694  501.715  6.29058         2.0            4.0\n",
              "\n",
              "[4695 rows x 4 columns]"
            ]
          },
          "metadata": {
            "tags": []
          },
          "execution_count": 12
        }
      ]
    },
    {
      "cell_type": "code",
      "metadata": {
        "colab": {
          "base_uri": "https://localhost:8080/",
          "height": 421
        },
        "id": "w7HJv4L0iI3k",
        "outputId": "8c355ebf-5106-491d-c6d3-cfdcf2c468c8"
      },
      "source": [
        "df"
      ],
      "execution_count": 13,
      "outputs": [
        {
          "output_type": "execute_result",
          "data": {
            "text/html": [
              "<div>\n",
              "<style scoped>\n",
              "    .dataframe tbody tr th:only-of-type {\n",
              "        vertical-align: middle;\n",
              "    }\n",
              "\n",
              "    .dataframe tbody tr th {\n",
              "        vertical-align: top;\n",
              "    }\n",
              "\n",
              "    .dataframe thead th {\n",
              "        text-align: right;\n",
              "    }\n",
              "</style>\n",
              "<table border=\"1\" class=\"dataframe\">\n",
              "  <thead>\n",
              "    <tr style=\"text-align: right;\">\n",
              "      <th></th>\n",
              "      <th>molecule_chembl_id</th>\n",
              "      <th>canonical_smiles</th>\n",
              "      <th>standard_value</th>\n",
              "      <th>class</th>\n",
              "    </tr>\n",
              "  </thead>\n",
              "  <tbody>\n",
              "    <tr>\n",
              "      <th>0</th>\n",
              "      <td>CHEMBL133897</td>\n",
              "      <td>CCOc1nn(-c2cccc(OCc3ccccc3)c2)c(=O)o1</td>\n",
              "      <td>750.0</td>\n",
              "      <td>active</td>\n",
              "    </tr>\n",
              "    <tr>\n",
              "      <th>1</th>\n",
              "      <td>CHEMBL336398</td>\n",
              "      <td>O=C(N1CCCCC1)n1nc(-c2ccc(Cl)cc2)nc1SCC1CC1</td>\n",
              "      <td>100.0</td>\n",
              "      <td>active</td>\n",
              "    </tr>\n",
              "    <tr>\n",
              "      <th>2</th>\n",
              "      <td>CHEMBL131588</td>\n",
              "      <td>CN(C(=O)n1nc(-c2ccc(Cl)cc2)nc1SCC(F)(F)F)c1ccccc1</td>\n",
              "      <td>50000.0</td>\n",
              "      <td>inactive</td>\n",
              "    </tr>\n",
              "    <tr>\n",
              "      <th>3</th>\n",
              "      <td>CHEMBL130628</td>\n",
              "      <td>O=C(N1CCCCC1)n1nc(-c2ccc(Cl)cc2)nc1SCC(F)(F)F</td>\n",
              "      <td>300.0</td>\n",
              "      <td>active</td>\n",
              "    </tr>\n",
              "    <tr>\n",
              "      <th>4</th>\n",
              "      <td>CHEMBL130478</td>\n",
              "      <td>CSc1nc(-c2ccc(OC(F)(F)F)cc2)nn1C(=O)N(C)C</td>\n",
              "      <td>800.0</td>\n",
              "      <td>active</td>\n",
              "    </tr>\n",
              "    <tr>\n",
              "      <th>...</th>\n",
              "      <td>...</td>\n",
              "      <td>...</td>\n",
              "      <td>...</td>\n",
              "      <td>...</td>\n",
              "    </tr>\n",
              "    <tr>\n",
              "      <th>4690</th>\n",
              "      <td>CHEMBL4293155</td>\n",
              "      <td>CC(C)(C)c1cc(/C=C/C(=O)NCCC2CCN(Cc3ccccc3Cl)CC...</td>\n",
              "      <td>2440.0</td>\n",
              "      <td>intermediate</td>\n",
              "    </tr>\n",
              "    <tr>\n",
              "      <th>4691</th>\n",
              "      <td>CHEMBL4282558</td>\n",
              "      <td>CC(C)(C)c1cc(/C=C/C(=O)NCCC2CCN(Cc3cccc(Cl)c3)...</td>\n",
              "      <td>2540.0</td>\n",
              "      <td>intermediate</td>\n",
              "    </tr>\n",
              "    <tr>\n",
              "      <th>4692</th>\n",
              "      <td>CHEMBL4281727</td>\n",
              "      <td>CC(C)(C)c1cc(/C=C/C(=O)NCCC2CCN(Cc3ccc(Br)cc3)...</td>\n",
              "      <td>3810.0</td>\n",
              "      <td>intermediate</td>\n",
              "    </tr>\n",
              "    <tr>\n",
              "      <th>4693</th>\n",
              "      <td>CHEMBL4292349</td>\n",
              "      <td>CC(C)(C)c1cc(/C=C/C(=O)NCCC2CCN(Cc3cccc([N+](=...</td>\n",
              "      <td>3460.0</td>\n",
              "      <td>intermediate</td>\n",
              "    </tr>\n",
              "    <tr>\n",
              "      <th>4694</th>\n",
              "      <td>CHEMBL4278260</td>\n",
              "      <td>CC(C)(C)c1cc(/C=C/C(=O)NCCC2CCN(Cc3ccc(C#N)cc3...</td>\n",
              "      <td>2780.0</td>\n",
              "      <td>intermediate</td>\n",
              "    </tr>\n",
              "  </tbody>\n",
              "</table>\n",
              "<p>4695 rows × 4 columns</p>\n",
              "</div>"
            ],
            "text/plain": [
              "     molecule_chembl_id  ...         class\n",
              "0          CHEMBL133897  ...        active\n",
              "1          CHEMBL336398  ...        active\n",
              "2          CHEMBL131588  ...      inactive\n",
              "3          CHEMBL130628  ...        active\n",
              "4          CHEMBL130478  ...        active\n",
              "...                 ...  ...           ...\n",
              "4690      CHEMBL4293155  ...  intermediate\n",
              "4691      CHEMBL4282558  ...  intermediate\n",
              "4692      CHEMBL4281727  ...  intermediate\n",
              "4693      CHEMBL4292349  ...  intermediate\n",
              "4694      CHEMBL4278260  ...  intermediate\n",
              "\n",
              "[4695 rows x 4 columns]"
            ]
          },
          "metadata": {
            "tags": []
          },
          "execution_count": 13
        }
      ]
    },
    {
      "cell_type": "code",
      "metadata": {
        "id": "u-l9VFfuiJZ2"
      },
      "source": [
        "df_combined = pd.concat([df,df_lipinski], axis=1)"
      ],
      "execution_count": 14,
      "outputs": []
    },
    {
      "cell_type": "code",
      "metadata": {
        "colab": {
          "base_uri": "https://localhost:8080/",
          "height": 421
        },
        "id": "xsfGlNyOiKDN",
        "outputId": "c5d61489-7105-4523-b748-84fb2014a946"
      },
      "source": [
        "df_combined"
      ],
      "execution_count": 15,
      "outputs": [
        {
          "output_type": "execute_result",
          "data": {
            "text/html": [
              "<div>\n",
              "<style scoped>\n",
              "    .dataframe tbody tr th:only-of-type {\n",
              "        vertical-align: middle;\n",
              "    }\n",
              "\n",
              "    .dataframe tbody tr th {\n",
              "        vertical-align: top;\n",
              "    }\n",
              "\n",
              "    .dataframe thead th {\n",
              "        text-align: right;\n",
              "    }\n",
              "</style>\n",
              "<table border=\"1\" class=\"dataframe\">\n",
              "  <thead>\n",
              "    <tr style=\"text-align: right;\">\n",
              "      <th></th>\n",
              "      <th>molecule_chembl_id</th>\n",
              "      <th>canonical_smiles</th>\n",
              "      <th>standard_value</th>\n",
              "      <th>class</th>\n",
              "      <th>MW</th>\n",
              "      <th>LogP</th>\n",
              "      <th>NumHDonors</th>\n",
              "      <th>NumHAcceptors</th>\n",
              "    </tr>\n",
              "  </thead>\n",
              "  <tbody>\n",
              "    <tr>\n",
              "      <th>0</th>\n",
              "      <td>CHEMBL133897</td>\n",
              "      <td>CCOc1nn(-c2cccc(OCc3ccccc3)c2)c(=O)o1</td>\n",
              "      <td>750.0</td>\n",
              "      <td>active</td>\n",
              "      <td>312.325</td>\n",
              "      <td>2.80320</td>\n",
              "      <td>0.0</td>\n",
              "      <td>6.0</td>\n",
              "    </tr>\n",
              "    <tr>\n",
              "      <th>1</th>\n",
              "      <td>CHEMBL336398</td>\n",
              "      <td>O=C(N1CCCCC1)n1nc(-c2ccc(Cl)cc2)nc1SCC1CC1</td>\n",
              "      <td>100.0</td>\n",
              "      <td>active</td>\n",
              "      <td>376.913</td>\n",
              "      <td>4.55460</td>\n",
              "      <td>0.0</td>\n",
              "      <td>5.0</td>\n",
              "    </tr>\n",
              "    <tr>\n",
              "      <th>2</th>\n",
              "      <td>CHEMBL131588</td>\n",
              "      <td>CN(C(=O)n1nc(-c2ccc(Cl)cc2)nc1SCC(F)(F)F)c1ccccc1</td>\n",
              "      <td>50000.0</td>\n",
              "      <td>inactive</td>\n",
              "      <td>426.851</td>\n",
              "      <td>5.35740</td>\n",
              "      <td>0.0</td>\n",
              "      <td>5.0</td>\n",
              "    </tr>\n",
              "    <tr>\n",
              "      <th>3</th>\n",
              "      <td>CHEMBL130628</td>\n",
              "      <td>O=C(N1CCCCC1)n1nc(-c2ccc(Cl)cc2)nc1SCC(F)(F)F</td>\n",
              "      <td>300.0</td>\n",
              "      <td>active</td>\n",
              "      <td>404.845</td>\n",
              "      <td>4.70690</td>\n",
              "      <td>0.0</td>\n",
              "      <td>5.0</td>\n",
              "    </tr>\n",
              "    <tr>\n",
              "      <th>4</th>\n",
              "      <td>CHEMBL130478</td>\n",
              "      <td>CSc1nc(-c2ccc(OC(F)(F)F)cc2)nn1C(=O)N(C)C</td>\n",
              "      <td>800.0</td>\n",
              "      <td>active</td>\n",
              "      <td>346.334</td>\n",
              "      <td>3.09530</td>\n",
              "      <td>0.0</td>\n",
              "      <td>6.0</td>\n",
              "    </tr>\n",
              "    <tr>\n",
              "      <th>...</th>\n",
              "      <td>...</td>\n",
              "      <td>...</td>\n",
              "      <td>...</td>\n",
              "      <td>...</td>\n",
              "      <td>...</td>\n",
              "      <td>...</td>\n",
              "      <td>...</td>\n",
              "      <td>...</td>\n",
              "    </tr>\n",
              "    <tr>\n",
              "      <th>4690</th>\n",
              "      <td>CHEMBL4293155</td>\n",
              "      <td>CC(C)(C)c1cc(/C=C/C(=O)NCCC2CCN(Cc3ccccc3Cl)CC...</td>\n",
              "      <td>2440.0</td>\n",
              "      <td>intermediate</td>\n",
              "      <td>511.150</td>\n",
              "      <td>7.07230</td>\n",
              "      <td>2.0</td>\n",
              "      <td>3.0</td>\n",
              "    </tr>\n",
              "    <tr>\n",
              "      <th>4691</th>\n",
              "      <td>CHEMBL4282558</td>\n",
              "      <td>CC(C)(C)c1cc(/C=C/C(=O)NCCC2CCN(Cc3cccc(Cl)c3)...</td>\n",
              "      <td>2540.0</td>\n",
              "      <td>intermediate</td>\n",
              "      <td>511.150</td>\n",
              "      <td>7.07230</td>\n",
              "      <td>2.0</td>\n",
              "      <td>3.0</td>\n",
              "    </tr>\n",
              "    <tr>\n",
              "      <th>4692</th>\n",
              "      <td>CHEMBL4281727</td>\n",
              "      <td>CC(C)(C)c1cc(/C=C/C(=O)NCCC2CCN(Cc3ccc(Br)cc3)...</td>\n",
              "      <td>3810.0</td>\n",
              "      <td>intermediate</td>\n",
              "      <td>555.601</td>\n",
              "      <td>7.18140</td>\n",
              "      <td>2.0</td>\n",
              "      <td>3.0</td>\n",
              "    </tr>\n",
              "    <tr>\n",
              "      <th>4693</th>\n",
              "      <td>CHEMBL4292349</td>\n",
              "      <td>CC(C)(C)c1cc(/C=C/C(=O)NCCC2CCN(Cc3cccc([N+](=...</td>\n",
              "      <td>3460.0</td>\n",
              "      <td>intermediate</td>\n",
              "      <td>521.702</td>\n",
              "      <td>6.32710</td>\n",
              "      <td>2.0</td>\n",
              "      <td>5.0</td>\n",
              "    </tr>\n",
              "    <tr>\n",
              "      <th>4694</th>\n",
              "      <td>CHEMBL4278260</td>\n",
              "      <td>CC(C)(C)c1cc(/C=C/C(=O)NCCC2CCN(Cc3ccc(C#N)cc3...</td>\n",
              "      <td>2780.0</td>\n",
              "      <td>intermediate</td>\n",
              "      <td>501.715</td>\n",
              "      <td>6.29058</td>\n",
              "      <td>2.0</td>\n",
              "      <td>4.0</td>\n",
              "    </tr>\n",
              "  </tbody>\n",
              "</table>\n",
              "<p>4695 rows × 8 columns</p>\n",
              "</div>"
            ],
            "text/plain": [
              "     molecule_chembl_id  ... NumHAcceptors\n",
              "0          CHEMBL133897  ...           6.0\n",
              "1          CHEMBL336398  ...           5.0\n",
              "2          CHEMBL131588  ...           5.0\n",
              "3          CHEMBL130628  ...           5.0\n",
              "4          CHEMBL130478  ...           6.0\n",
              "...                 ...  ...           ...\n",
              "4690      CHEMBL4293155  ...           3.0\n",
              "4691      CHEMBL4282558  ...           3.0\n",
              "4692      CHEMBL4281727  ...           3.0\n",
              "4693      CHEMBL4292349  ...           5.0\n",
              "4694      CHEMBL4278260  ...           4.0\n",
              "\n",
              "[4695 rows x 8 columns]"
            ]
          },
          "metadata": {
            "tags": []
          },
          "execution_count": 15
        }
      ]
    },
    {
      "cell_type": "markdown",
      "metadata": {
        "id": "9KBEYchpiNMV"
      },
      "source": [
        "## Convert IC50 to pIC50\n",
        "\n",
        "To allow IC50 data to be more uniformly distributed, we will convert IC50 to the negative logarithmic scale which is essentially -log10(IC50).\n",
        "\n",
        "This custom function pIC50() will accept a DataFrame as input and will:\n",
        "\n",
        "Take the IC50 values from the standard_value column and converts it from nM to M by multiplying the value by 10$^{-9}$\n",
        "Take the molar value and apply -log10\n",
        "Delete the standard_value column and create a new pIC50 column"
      ]
    },
    {
      "cell_type": "code",
      "metadata": {
        "id": "5wnQ66ifiVrc"
      },
      "source": [
        "# https://github.com/chaninlab/estrogen-receptor-alpha-qsar/blob/master/02_ER_alpha_RO5.ipynb\n",
        "\n",
        "import numpy as np\n",
        "\n",
        "def pIC50(input):\n",
        "    pIC50 = []\n",
        "\n",
        "    for i in input['standard_value_norm']:\n",
        "        molar = i*(10**-9) # Converts nM to M\n",
        "        pIC50.append(-np.log10(molar))\n",
        "\n",
        "    input['pIC50'] = pIC50\n",
        "    x = input.drop('standard_value_norm', 1)\n",
        "        \n",
        "    return x"
      ],
      "execution_count": 16,
      "outputs": []
    },
    {
      "cell_type": "code",
      "metadata": {
        "colab": {
          "base_uri": "https://localhost:8080/"
        },
        "id": "C9TRLUR5iXAU",
        "outputId": "efb8c93c-aed2-44e8-b4a6-dbe0a5d7f616"
      },
      "source": [
        "df_combined.standard_value.describe()"
      ],
      "execution_count": 17,
      "outputs": [
        {
          "output_type": "execute_result",
          "data": {
            "text/plain": [
              "count    4.695000e+03\n",
              "mean     3.210931e+12\n",
              "std      1.189580e+14\n",
              "min      6.000000e-03\n",
              "25%      1.250000e+02\n",
              "50%      2.246000e+03\n",
              "75%      1.753000e+04\n",
              "max      5.888437e+15\n",
              "Name: standard_value, dtype: float64"
            ]
          },
          "metadata": {
            "tags": []
          },
          "execution_count": 17
        }
      ]
    },
    {
      "cell_type": "code",
      "metadata": {
        "colab": {
          "base_uri": "https://localhost:8080/"
        },
        "id": "Omz_VJfCiYcc",
        "outputId": "3756c3b1-3cc7-4cfd-f96d-29cdca79cfec"
      },
      "source": [
        "-np.log10( (10**-9)* 100000000 )"
      ],
      "execution_count": 18,
      "outputs": [
        {
          "output_type": "execute_result",
          "data": {
            "text/plain": [
              "1.0"
            ]
          },
          "metadata": {
            "tags": []
          },
          "execution_count": 18
        }
      ]
    },
    {
      "cell_type": "code",
      "metadata": {
        "colab": {
          "base_uri": "https://localhost:8080/"
        },
        "id": "D-M__CpAiaH1",
        "outputId": "a093a509-d3e9-42f9-a25f-2897d4288b66"
      },
      "source": [
        "-np.log10( (10**-9)* 10000000000 )"
      ],
      "execution_count": 19,
      "outputs": [
        {
          "output_type": "execute_result",
          "data": {
            "text/plain": [
              "-1.0"
            ]
          },
          "metadata": {
            "tags": []
          },
          "execution_count": 19
        }
      ]
    },
    {
      "cell_type": "code",
      "metadata": {
        "id": "4yrk3VPViaCD"
      },
      "source": [
        "def norm_value(input):\n",
        "    norm = []\n",
        "\n",
        "    for i in input['standard_value']:\n",
        "        if i > 100000000:\n",
        "          i = 100000000\n",
        "        norm.append(i)\n",
        "\n",
        "    input['standard_value_norm'] = norm\n",
        "    x = input.drop('standard_value', 1)\n",
        "        \n",
        "    return x"
      ],
      "execution_count": 20,
      "outputs": []
    },
    {
      "cell_type": "markdown",
      "metadata": {
        "id": "_jolffiGid92"
      },
      "source": [
        "We will first apply the norm_value() function so that the values in the standard_value column is normalized."
      ]
    },
    {
      "cell_type": "code",
      "metadata": {
        "colab": {
          "base_uri": "https://localhost:8080/",
          "height": 421
        },
        "id": "UqlnB0loihSO",
        "outputId": "039200f4-31fe-446f-d276-40900003ec79"
      },
      "source": [
        "df_norm = norm_value(df_combined)\n",
        "df_norm"
      ],
      "execution_count": 21,
      "outputs": [
        {
          "output_type": "execute_result",
          "data": {
            "text/html": [
              "<div>\n",
              "<style scoped>\n",
              "    .dataframe tbody tr th:only-of-type {\n",
              "        vertical-align: middle;\n",
              "    }\n",
              "\n",
              "    .dataframe tbody tr th {\n",
              "        vertical-align: top;\n",
              "    }\n",
              "\n",
              "    .dataframe thead th {\n",
              "        text-align: right;\n",
              "    }\n",
              "</style>\n",
              "<table border=\"1\" class=\"dataframe\">\n",
              "  <thead>\n",
              "    <tr style=\"text-align: right;\">\n",
              "      <th></th>\n",
              "      <th>molecule_chembl_id</th>\n",
              "      <th>canonical_smiles</th>\n",
              "      <th>class</th>\n",
              "      <th>MW</th>\n",
              "      <th>LogP</th>\n",
              "      <th>NumHDonors</th>\n",
              "      <th>NumHAcceptors</th>\n",
              "      <th>standard_value_norm</th>\n",
              "    </tr>\n",
              "  </thead>\n",
              "  <tbody>\n",
              "    <tr>\n",
              "      <th>0</th>\n",
              "      <td>CHEMBL133897</td>\n",
              "      <td>CCOc1nn(-c2cccc(OCc3ccccc3)c2)c(=O)o1</td>\n",
              "      <td>active</td>\n",
              "      <td>312.325</td>\n",
              "      <td>2.80320</td>\n",
              "      <td>0.0</td>\n",
              "      <td>6.0</td>\n",
              "      <td>750.0</td>\n",
              "    </tr>\n",
              "    <tr>\n",
              "      <th>1</th>\n",
              "      <td>CHEMBL336398</td>\n",
              "      <td>O=C(N1CCCCC1)n1nc(-c2ccc(Cl)cc2)nc1SCC1CC1</td>\n",
              "      <td>active</td>\n",
              "      <td>376.913</td>\n",
              "      <td>4.55460</td>\n",
              "      <td>0.0</td>\n",
              "      <td>5.0</td>\n",
              "      <td>100.0</td>\n",
              "    </tr>\n",
              "    <tr>\n",
              "      <th>2</th>\n",
              "      <td>CHEMBL131588</td>\n",
              "      <td>CN(C(=O)n1nc(-c2ccc(Cl)cc2)nc1SCC(F)(F)F)c1ccccc1</td>\n",
              "      <td>inactive</td>\n",
              "      <td>426.851</td>\n",
              "      <td>5.35740</td>\n",
              "      <td>0.0</td>\n",
              "      <td>5.0</td>\n",
              "      <td>50000.0</td>\n",
              "    </tr>\n",
              "    <tr>\n",
              "      <th>3</th>\n",
              "      <td>CHEMBL130628</td>\n",
              "      <td>O=C(N1CCCCC1)n1nc(-c2ccc(Cl)cc2)nc1SCC(F)(F)F</td>\n",
              "      <td>active</td>\n",
              "      <td>404.845</td>\n",
              "      <td>4.70690</td>\n",
              "      <td>0.0</td>\n",
              "      <td>5.0</td>\n",
              "      <td>300.0</td>\n",
              "    </tr>\n",
              "    <tr>\n",
              "      <th>4</th>\n",
              "      <td>CHEMBL130478</td>\n",
              "      <td>CSc1nc(-c2ccc(OC(F)(F)F)cc2)nn1C(=O)N(C)C</td>\n",
              "      <td>active</td>\n",
              "      <td>346.334</td>\n",
              "      <td>3.09530</td>\n",
              "      <td>0.0</td>\n",
              "      <td>6.0</td>\n",
              "      <td>800.0</td>\n",
              "    </tr>\n",
              "    <tr>\n",
              "      <th>...</th>\n",
              "      <td>...</td>\n",
              "      <td>...</td>\n",
              "      <td>...</td>\n",
              "      <td>...</td>\n",
              "      <td>...</td>\n",
              "      <td>...</td>\n",
              "      <td>...</td>\n",
              "      <td>...</td>\n",
              "    </tr>\n",
              "    <tr>\n",
              "      <th>4690</th>\n",
              "      <td>CHEMBL4293155</td>\n",
              "      <td>CC(C)(C)c1cc(/C=C/C(=O)NCCC2CCN(Cc3ccccc3Cl)CC...</td>\n",
              "      <td>intermediate</td>\n",
              "      <td>511.150</td>\n",
              "      <td>7.07230</td>\n",
              "      <td>2.0</td>\n",
              "      <td>3.0</td>\n",
              "      <td>2440.0</td>\n",
              "    </tr>\n",
              "    <tr>\n",
              "      <th>4691</th>\n",
              "      <td>CHEMBL4282558</td>\n",
              "      <td>CC(C)(C)c1cc(/C=C/C(=O)NCCC2CCN(Cc3cccc(Cl)c3)...</td>\n",
              "      <td>intermediate</td>\n",
              "      <td>511.150</td>\n",
              "      <td>7.07230</td>\n",
              "      <td>2.0</td>\n",
              "      <td>3.0</td>\n",
              "      <td>2540.0</td>\n",
              "    </tr>\n",
              "    <tr>\n",
              "      <th>4692</th>\n",
              "      <td>CHEMBL4281727</td>\n",
              "      <td>CC(C)(C)c1cc(/C=C/C(=O)NCCC2CCN(Cc3ccc(Br)cc3)...</td>\n",
              "      <td>intermediate</td>\n",
              "      <td>555.601</td>\n",
              "      <td>7.18140</td>\n",
              "      <td>2.0</td>\n",
              "      <td>3.0</td>\n",
              "      <td>3810.0</td>\n",
              "    </tr>\n",
              "    <tr>\n",
              "      <th>4693</th>\n",
              "      <td>CHEMBL4292349</td>\n",
              "      <td>CC(C)(C)c1cc(/C=C/C(=O)NCCC2CCN(Cc3cccc([N+](=...</td>\n",
              "      <td>intermediate</td>\n",
              "      <td>521.702</td>\n",
              "      <td>6.32710</td>\n",
              "      <td>2.0</td>\n",
              "      <td>5.0</td>\n",
              "      <td>3460.0</td>\n",
              "    </tr>\n",
              "    <tr>\n",
              "      <th>4694</th>\n",
              "      <td>CHEMBL4278260</td>\n",
              "      <td>CC(C)(C)c1cc(/C=C/C(=O)NCCC2CCN(Cc3ccc(C#N)cc3...</td>\n",
              "      <td>intermediate</td>\n",
              "      <td>501.715</td>\n",
              "      <td>6.29058</td>\n",
              "      <td>2.0</td>\n",
              "      <td>4.0</td>\n",
              "      <td>2780.0</td>\n",
              "    </tr>\n",
              "  </tbody>\n",
              "</table>\n",
              "<p>4695 rows × 8 columns</p>\n",
              "</div>"
            ],
            "text/plain": [
              "     molecule_chembl_id  ... standard_value_norm\n",
              "0          CHEMBL133897  ...               750.0\n",
              "1          CHEMBL336398  ...               100.0\n",
              "2          CHEMBL131588  ...             50000.0\n",
              "3          CHEMBL130628  ...               300.0\n",
              "4          CHEMBL130478  ...               800.0\n",
              "...                 ...  ...                 ...\n",
              "4690      CHEMBL4293155  ...              2440.0\n",
              "4691      CHEMBL4282558  ...              2540.0\n",
              "4692      CHEMBL4281727  ...              3810.0\n",
              "4693      CHEMBL4292349  ...              3460.0\n",
              "4694      CHEMBL4278260  ...              2780.0\n",
              "\n",
              "[4695 rows x 8 columns]"
            ]
          },
          "metadata": {
            "tags": []
          },
          "execution_count": 21
        }
      ]
    },
    {
      "cell_type": "code",
      "metadata": {
        "colab": {
          "base_uri": "https://localhost:8080/"
        },
        "id": "amVoYcBAinlb",
        "outputId": "3c4119f7-24eb-4f65-cd3d-9d38dd3d3a90"
      },
      "source": [
        "df_norm.standard_value_norm.describe()"
      ],
      "execution_count": 22,
      "outputs": [
        {
          "output_type": "execute_result",
          "data": {
            "text/plain": [
              "count    4.695000e+03\n",
              "mean     3.276494e+05\n",
              "std      4.718369e+06\n",
              "min      6.000000e-03\n",
              "25%      1.250000e+02\n",
              "50%      2.246000e+03\n",
              "75%      1.753000e+04\n",
              "max      1.000000e+08\n",
              "Name: standard_value_norm, dtype: float64"
            ]
          },
          "metadata": {
            "tags": []
          },
          "execution_count": 22
        }
      ]
    },
    {
      "cell_type": "code",
      "metadata": {
        "colab": {
          "base_uri": "https://localhost:8080/",
          "height": 421
        },
        "id": "-HcavdkiiphJ",
        "outputId": "3ebabd48-5dfe-497b-a70d-162c07537314"
      },
      "source": [
        "df_final = pIC50(df_norm)\n",
        "df_final"
      ],
      "execution_count": 23,
      "outputs": [
        {
          "output_type": "execute_result",
          "data": {
            "text/html": [
              "<div>\n",
              "<style scoped>\n",
              "    .dataframe tbody tr th:only-of-type {\n",
              "        vertical-align: middle;\n",
              "    }\n",
              "\n",
              "    .dataframe tbody tr th {\n",
              "        vertical-align: top;\n",
              "    }\n",
              "\n",
              "    .dataframe thead th {\n",
              "        text-align: right;\n",
              "    }\n",
              "</style>\n",
              "<table border=\"1\" class=\"dataframe\">\n",
              "  <thead>\n",
              "    <tr style=\"text-align: right;\">\n",
              "      <th></th>\n",
              "      <th>molecule_chembl_id</th>\n",
              "      <th>canonical_smiles</th>\n",
              "      <th>class</th>\n",
              "      <th>MW</th>\n",
              "      <th>LogP</th>\n",
              "      <th>NumHDonors</th>\n",
              "      <th>NumHAcceptors</th>\n",
              "      <th>pIC50</th>\n",
              "    </tr>\n",
              "  </thead>\n",
              "  <tbody>\n",
              "    <tr>\n",
              "      <th>0</th>\n",
              "      <td>CHEMBL133897</td>\n",
              "      <td>CCOc1nn(-c2cccc(OCc3ccccc3)c2)c(=O)o1</td>\n",
              "      <td>active</td>\n",
              "      <td>312.325</td>\n",
              "      <td>2.80320</td>\n",
              "      <td>0.0</td>\n",
              "      <td>6.0</td>\n",
              "      <td>6.124939</td>\n",
              "    </tr>\n",
              "    <tr>\n",
              "      <th>1</th>\n",
              "      <td>CHEMBL336398</td>\n",
              "      <td>O=C(N1CCCCC1)n1nc(-c2ccc(Cl)cc2)nc1SCC1CC1</td>\n",
              "      <td>active</td>\n",
              "      <td>376.913</td>\n",
              "      <td>4.55460</td>\n",
              "      <td>0.0</td>\n",
              "      <td>5.0</td>\n",
              "      <td>7.000000</td>\n",
              "    </tr>\n",
              "    <tr>\n",
              "      <th>2</th>\n",
              "      <td>CHEMBL131588</td>\n",
              "      <td>CN(C(=O)n1nc(-c2ccc(Cl)cc2)nc1SCC(F)(F)F)c1ccccc1</td>\n",
              "      <td>inactive</td>\n",
              "      <td>426.851</td>\n",
              "      <td>5.35740</td>\n",
              "      <td>0.0</td>\n",
              "      <td>5.0</td>\n",
              "      <td>4.301030</td>\n",
              "    </tr>\n",
              "    <tr>\n",
              "      <th>3</th>\n",
              "      <td>CHEMBL130628</td>\n",
              "      <td>O=C(N1CCCCC1)n1nc(-c2ccc(Cl)cc2)nc1SCC(F)(F)F</td>\n",
              "      <td>active</td>\n",
              "      <td>404.845</td>\n",
              "      <td>4.70690</td>\n",
              "      <td>0.0</td>\n",
              "      <td>5.0</td>\n",
              "      <td>6.522879</td>\n",
              "    </tr>\n",
              "    <tr>\n",
              "      <th>4</th>\n",
              "      <td>CHEMBL130478</td>\n",
              "      <td>CSc1nc(-c2ccc(OC(F)(F)F)cc2)nn1C(=O)N(C)C</td>\n",
              "      <td>active</td>\n",
              "      <td>346.334</td>\n",
              "      <td>3.09530</td>\n",
              "      <td>0.0</td>\n",
              "      <td>6.0</td>\n",
              "      <td>6.096910</td>\n",
              "    </tr>\n",
              "    <tr>\n",
              "      <th>...</th>\n",
              "      <td>...</td>\n",
              "      <td>...</td>\n",
              "      <td>...</td>\n",
              "      <td>...</td>\n",
              "      <td>...</td>\n",
              "      <td>...</td>\n",
              "      <td>...</td>\n",
              "      <td>...</td>\n",
              "    </tr>\n",
              "    <tr>\n",
              "      <th>4690</th>\n",
              "      <td>CHEMBL4293155</td>\n",
              "      <td>CC(C)(C)c1cc(/C=C/C(=O)NCCC2CCN(Cc3ccccc3Cl)CC...</td>\n",
              "      <td>intermediate</td>\n",
              "      <td>511.150</td>\n",
              "      <td>7.07230</td>\n",
              "      <td>2.0</td>\n",
              "      <td>3.0</td>\n",
              "      <td>5.612610</td>\n",
              "    </tr>\n",
              "    <tr>\n",
              "      <th>4691</th>\n",
              "      <td>CHEMBL4282558</td>\n",
              "      <td>CC(C)(C)c1cc(/C=C/C(=O)NCCC2CCN(Cc3cccc(Cl)c3)...</td>\n",
              "      <td>intermediate</td>\n",
              "      <td>511.150</td>\n",
              "      <td>7.07230</td>\n",
              "      <td>2.0</td>\n",
              "      <td>3.0</td>\n",
              "      <td>5.595166</td>\n",
              "    </tr>\n",
              "    <tr>\n",
              "      <th>4692</th>\n",
              "      <td>CHEMBL4281727</td>\n",
              "      <td>CC(C)(C)c1cc(/C=C/C(=O)NCCC2CCN(Cc3ccc(Br)cc3)...</td>\n",
              "      <td>intermediate</td>\n",
              "      <td>555.601</td>\n",
              "      <td>7.18140</td>\n",
              "      <td>2.0</td>\n",
              "      <td>3.0</td>\n",
              "      <td>5.419075</td>\n",
              "    </tr>\n",
              "    <tr>\n",
              "      <th>4693</th>\n",
              "      <td>CHEMBL4292349</td>\n",
              "      <td>CC(C)(C)c1cc(/C=C/C(=O)NCCC2CCN(Cc3cccc([N+](=...</td>\n",
              "      <td>intermediate</td>\n",
              "      <td>521.702</td>\n",
              "      <td>6.32710</td>\n",
              "      <td>2.0</td>\n",
              "      <td>5.0</td>\n",
              "      <td>5.460924</td>\n",
              "    </tr>\n",
              "    <tr>\n",
              "      <th>4694</th>\n",
              "      <td>CHEMBL4278260</td>\n",
              "      <td>CC(C)(C)c1cc(/C=C/C(=O)NCCC2CCN(Cc3ccc(C#N)cc3...</td>\n",
              "      <td>intermediate</td>\n",
              "      <td>501.715</td>\n",
              "      <td>6.29058</td>\n",
              "      <td>2.0</td>\n",
              "      <td>4.0</td>\n",
              "      <td>5.555955</td>\n",
              "    </tr>\n",
              "  </tbody>\n",
              "</table>\n",
              "<p>4695 rows × 8 columns</p>\n",
              "</div>"
            ],
            "text/plain": [
              "     molecule_chembl_id  ...     pIC50\n",
              "0          CHEMBL133897  ...  6.124939\n",
              "1          CHEMBL336398  ...  7.000000\n",
              "2          CHEMBL131588  ...  4.301030\n",
              "3          CHEMBL130628  ...  6.522879\n",
              "4          CHEMBL130478  ...  6.096910\n",
              "...                 ...  ...       ...\n",
              "4690      CHEMBL4293155  ...  5.612610\n",
              "4691      CHEMBL4282558  ...  5.595166\n",
              "4692      CHEMBL4281727  ...  5.419075\n",
              "4693      CHEMBL4292349  ...  5.460924\n",
              "4694      CHEMBL4278260  ...  5.555955\n",
              "\n",
              "[4695 rows x 8 columns]"
            ]
          },
          "metadata": {
            "tags": []
          },
          "execution_count": 23
        }
      ]
    },
    {
      "cell_type": "code",
      "metadata": {
        "colab": {
          "base_uri": "https://localhost:8080/"
        },
        "id": "yxiEKQTQiuGk",
        "outputId": "b5e656f0-4042-4945-b0de-1e933647b521"
      },
      "source": [
        "df_final.pIC50.describe()"
      ],
      "execution_count": 24,
      "outputs": [
        {
          "output_type": "execute_result",
          "data": {
            "text/plain": [
              "count    4695.000000\n",
              "mean        5.820864\n",
              "std         1.552813\n",
              "min         1.000000\n",
              "25%         4.756219\n",
              "50%         5.648590\n",
              "75%         6.903090\n",
              "max        11.221849\n",
              "Name: pIC50, dtype: float64"
            ]
          },
          "metadata": {
            "tags": []
          },
          "execution_count": 24
        }
      ]
    },
    {
      "cell_type": "code",
      "metadata": {
        "id": "df98cTsHiuwX"
      },
      "source": [
        "df_final.to_csv('acetylcholinesterase_04_bioactivity_data_3class_pIC50.csv')"
      ],
      "execution_count": 25,
      "outputs": []
    },
    {
      "cell_type": "markdown",
      "metadata": {
        "id": "RmW_TgmpjE4b"
      },
      "source": [
        "## Removing the 'intermediate' bioactivity class\n",
        "Here, we will be removing the intermediate class from our data set."
      ]
    },
    {
      "cell_type": "code",
      "metadata": {
        "colab": {
          "base_uri": "https://localhost:8080/",
          "height": 421
        },
        "id": "lTUuPW2AiwVP",
        "outputId": "c7cbaacd-b74f-4010-9b16-c98d810dbb22"
      },
      "source": [
        "df_2class = df_final[df_final['class'] != 'intermediate']\n",
        "df_2class"
      ],
      "execution_count": 26,
      "outputs": [
        {
          "output_type": "execute_result",
          "data": {
            "text/html": [
              "<div>\n",
              "<style scoped>\n",
              "    .dataframe tbody tr th:only-of-type {\n",
              "        vertical-align: middle;\n",
              "    }\n",
              "\n",
              "    .dataframe tbody tr th {\n",
              "        vertical-align: top;\n",
              "    }\n",
              "\n",
              "    .dataframe thead th {\n",
              "        text-align: right;\n",
              "    }\n",
              "</style>\n",
              "<table border=\"1\" class=\"dataframe\">\n",
              "  <thead>\n",
              "    <tr style=\"text-align: right;\">\n",
              "      <th></th>\n",
              "      <th>molecule_chembl_id</th>\n",
              "      <th>canonical_smiles</th>\n",
              "      <th>class</th>\n",
              "      <th>MW</th>\n",
              "      <th>LogP</th>\n",
              "      <th>NumHDonors</th>\n",
              "      <th>NumHAcceptors</th>\n",
              "      <th>pIC50</th>\n",
              "    </tr>\n",
              "  </thead>\n",
              "  <tbody>\n",
              "    <tr>\n",
              "      <th>0</th>\n",
              "      <td>CHEMBL133897</td>\n",
              "      <td>CCOc1nn(-c2cccc(OCc3ccccc3)c2)c(=O)o1</td>\n",
              "      <td>active</td>\n",
              "      <td>312.325</td>\n",
              "      <td>2.8032</td>\n",
              "      <td>0.0</td>\n",
              "      <td>6.0</td>\n",
              "      <td>6.124939</td>\n",
              "    </tr>\n",
              "    <tr>\n",
              "      <th>1</th>\n",
              "      <td>CHEMBL336398</td>\n",
              "      <td>O=C(N1CCCCC1)n1nc(-c2ccc(Cl)cc2)nc1SCC1CC1</td>\n",
              "      <td>active</td>\n",
              "      <td>376.913</td>\n",
              "      <td>4.5546</td>\n",
              "      <td>0.0</td>\n",
              "      <td>5.0</td>\n",
              "      <td>7.000000</td>\n",
              "    </tr>\n",
              "    <tr>\n",
              "      <th>2</th>\n",
              "      <td>CHEMBL131588</td>\n",
              "      <td>CN(C(=O)n1nc(-c2ccc(Cl)cc2)nc1SCC(F)(F)F)c1ccccc1</td>\n",
              "      <td>inactive</td>\n",
              "      <td>426.851</td>\n",
              "      <td>5.3574</td>\n",
              "      <td>0.0</td>\n",
              "      <td>5.0</td>\n",
              "      <td>4.301030</td>\n",
              "    </tr>\n",
              "    <tr>\n",
              "      <th>3</th>\n",
              "      <td>CHEMBL130628</td>\n",
              "      <td>O=C(N1CCCCC1)n1nc(-c2ccc(Cl)cc2)nc1SCC(F)(F)F</td>\n",
              "      <td>active</td>\n",
              "      <td>404.845</td>\n",
              "      <td>4.7069</td>\n",
              "      <td>0.0</td>\n",
              "      <td>5.0</td>\n",
              "      <td>6.522879</td>\n",
              "    </tr>\n",
              "    <tr>\n",
              "      <th>4</th>\n",
              "      <td>CHEMBL130478</td>\n",
              "      <td>CSc1nc(-c2ccc(OC(F)(F)F)cc2)nn1C(=O)N(C)C</td>\n",
              "      <td>active</td>\n",
              "      <td>346.334</td>\n",
              "      <td>3.0953</td>\n",
              "      <td>0.0</td>\n",
              "      <td>6.0</td>\n",
              "      <td>6.096910</td>\n",
              "    </tr>\n",
              "    <tr>\n",
              "      <th>...</th>\n",
              "      <td>...</td>\n",
              "      <td>...</td>\n",
              "      <td>...</td>\n",
              "      <td>...</td>\n",
              "      <td>...</td>\n",
              "      <td>...</td>\n",
              "      <td>...</td>\n",
              "      <td>...</td>\n",
              "    </tr>\n",
              "    <tr>\n",
              "      <th>4675</th>\n",
              "      <td>CHEMBL4284261</td>\n",
              "      <td>CCN(C)Cc1cc(N)ccc1O.Cl.Cl</td>\n",
              "      <td>inactive</td>\n",
              "      <td>180.251</td>\n",
              "      <td>1.4261</td>\n",
              "      <td>2.0</td>\n",
              "      <td>3.0</td>\n",
              "      <td>3.015428</td>\n",
              "    </tr>\n",
              "    <tr>\n",
              "      <th>4676</th>\n",
              "      <td>CHEMBL4276921</td>\n",
              "      <td>CN(C)Cc1cc(N)ccc1O.Cl.Cl</td>\n",
              "      <td>inactive</td>\n",
              "      <td>166.224</td>\n",
              "      <td>1.0360</td>\n",
              "      <td>2.0</td>\n",
              "      <td>3.0</td>\n",
              "      <td>2.813467</td>\n",
              "    </tr>\n",
              "    <tr>\n",
              "      <th>4677</th>\n",
              "      <td>CHEMBL4292574</td>\n",
              "      <td>CNCc1cc(N)ccc1O.Cl.Cl</td>\n",
              "      <td>inactive</td>\n",
              "      <td>152.197</td>\n",
              "      <td>0.6938</td>\n",
              "      <td>3.0</td>\n",
              "      <td>3.0</td>\n",
              "      <td>3.476904</td>\n",
              "    </tr>\n",
              "    <tr>\n",
              "      <th>4685</th>\n",
              "      <td>CHEMBL4292766</td>\n",
              "      <td>CC(C)(C)c1cc(/C=C/C(=O)NCCC2CCN(Cc3ccccc3F)CC2...</td>\n",
              "      <td>active</td>\n",
              "      <td>494.695</td>\n",
              "      <td>6.5580</td>\n",
              "      <td>2.0</td>\n",
              "      <td>3.0</td>\n",
              "      <td>6.124939</td>\n",
              "    </tr>\n",
              "    <tr>\n",
              "      <th>4687</th>\n",
              "      <td>CHEMBL4284475</td>\n",
              "      <td>CC(C)(C)c1cc(/C=C/C(=O)NCCC2CCN(Cc3ccc(F)cc3)C...</td>\n",
              "      <td>active</td>\n",
              "      <td>494.695</td>\n",
              "      <td>6.5580</td>\n",
              "      <td>2.0</td>\n",
              "      <td>3.0</td>\n",
              "      <td>6.008774</td>\n",
              "    </tr>\n",
              "  </tbody>\n",
              "</table>\n",
              "<p>3549 rows × 8 columns</p>\n",
              "</div>"
            ],
            "text/plain": [
              "     molecule_chembl_id  ...     pIC50\n",
              "0          CHEMBL133897  ...  6.124939\n",
              "1          CHEMBL336398  ...  7.000000\n",
              "2          CHEMBL131588  ...  4.301030\n",
              "3          CHEMBL130628  ...  6.522879\n",
              "4          CHEMBL130478  ...  6.096910\n",
              "...                 ...  ...       ...\n",
              "4675      CHEMBL4284261  ...  3.015428\n",
              "4676      CHEMBL4276921  ...  2.813467\n",
              "4677      CHEMBL4292574  ...  3.476904\n",
              "4685      CHEMBL4292766  ...  6.124939\n",
              "4687      CHEMBL4284475  ...  6.008774\n",
              "\n",
              "[3549 rows x 8 columns]"
            ]
          },
          "metadata": {
            "tags": []
          },
          "execution_count": 26
        }
      ]
    },
    {
      "cell_type": "code",
      "metadata": {
        "id": "jMY5AUQPjSAk"
      },
      "source": [
        "df_2class.to_csv('acetylcholinesterase_05_bioactivity_data_2class_pIC50.csv')"
      ],
      "execution_count": 27,
      "outputs": []
    },
    {
      "cell_type": "markdown",
      "metadata": {
        "id": "NOhTn8LejWuE"
      },
      "source": [
        "## Exploratory Data Analysis (Chemical Space Analysis) via Lipinski descriptors"
      ]
    },
    {
      "cell_type": "markdown",
      "metadata": {
        "id": "3Ph_6NmejaEt"
      },
      "source": [
        "### Import library"
      ]
    },
    {
      "cell_type": "code",
      "metadata": {
        "id": "oBZBtfp3jfvl"
      },
      "source": [
        "import seaborn as sns\n",
        "sns.set(style='ticks')\n",
        "import matplotlib.pyplot as plt"
      ],
      "execution_count": 28,
      "outputs": []
    },
    {
      "cell_type": "code",
      "metadata": {
        "colab": {
          "base_uri": "https://localhost:8080/",
          "height": 367
        },
        "id": "2b4ZNn6Cjh78",
        "outputId": "a294cb82-3f95-4f76-d05c-d50f108d8f35"
      },
      "source": [
        "plt.figure(figsize=(5.5, 5.5))\n",
        "\n",
        "sns.countplot(x='class', data=df_2class, edgecolor='black')\n",
        "\n",
        "plt.xlabel('Bioactivity class', fontsize=14, fontweight='bold')\n",
        "plt.ylabel('Frequency', fontsize=14, fontweight='bold')\n",
        "\n",
        "plt.savefig('plot_bioactivity_class.pdf')"
      ],
      "execution_count": 29,
      "outputs": [
        {
          "output_type": "display_data",
          "data": {
            "image/png": "[encoded data removed]",
            "text/plain": [
              "<Figure size 396x396 with 1 Axes>"
            ]
          },
          "metadata": {
            "tags": []
          }
        }
      ]
    },
    {
      "cell_type": "markdown",
      "metadata": {
        "id": "xWov4XPDjmMb"
      },
      "source": [
        "### Scatter plot of MW versus LogP\n",
        "It can be seen that the 2 bioactivity classes are spanning similar chemical spaces as evident by the scatter plot of MW vs LogP."
      ]
    },
    {
      "cell_type": "code",
      "metadata": {
        "colab": {
          "base_uri": "https://localhost:8080/",
          "height": 367
        },
        "id": "xLWRuPVcjle_",
        "outputId": "57cbae06-92cb-47a5-e9a5-311cca6326ce"
      },
      "source": [
        "plt.figure(figsize=(5.5, 5.5))\n",
        "\n",
        "sns.scatterplot(x='MW', y='LogP', data=df_2class, hue='class', size='pIC50', edgecolor='black', alpha=0.7)\n",
        "\n",
        "plt.xlabel('MW', fontsize=14, fontweight='bold')\n",
        "plt.ylabel('LogP', fontsize=14, fontweight='bold')\n",
        "plt.legend(bbox_to_anchor=(1.05, 1), loc=2, borderaxespad=0)\n",
        "plt.savefig('plot_MW_vs_LogP.pdf')"
      ],
      "execution_count": 30,
      "outputs": [
        {
          "output_type": "display_data",
          "data": {
            "image/png": "[encoded data removed]",
            "text/plain": [
              "<Figure size 396x396 with 1 Axes>"
            ]
          },
          "metadata": {
            "tags": []
          }
        }
      ]
    },
    {
      "cell_type": "markdown",
      "metadata": {
        "id": "92V-UbGKjvHf"
      },
      "source": [
        "### Box plots\n",
        "pIC50 value"
      ]
    },
    {
      "cell_type": "code",
      "metadata": {
        "colab": {
          "base_uri": "https://localhost:8080/",
          "height": 367
        },
        "id": "3QGuBpdIjxi0",
        "outputId": "3b4f17e1-1cef-4ad9-e825-5afb59cb43d9"
      },
      "source": [
        "plt.figure(figsize=(5.5, 5.5))\n",
        "\n",
        "sns.boxplot(x = 'class', y = 'pIC50', data = df_2class)\n",
        "\n",
        "plt.xlabel('Bioactivity class', fontsize=14, fontweight='bold')\n",
        "plt.ylabel('pIC50 value', fontsize=14, fontweight='bold')\n",
        "\n",
        "plt.savefig('plot_ic50.pdf')"
      ],
      "execution_count": 31,
      "outputs": [
        {
          "output_type": "display_data",
          "data": {
            "image/png": "[encoded data removed]",
            "text/plain": [
              "<Figure size 396x396 with 1 Axes>"
            ]
          },
          "metadata": {
            "tags": []
          }
        }
      ]
    },
    {
      "cell_type": "markdown",
      "metadata": {
        "id": "P86352G4j0Zk"
      },
      "source": [
        "### Statistical analysis | Mann-Whitney U Test"
      ]
    },
    {
      "cell_type": "code",
      "metadata": {
        "id": "l7x5Q6euj2K7"
      },
      "source": [
        "def mannwhitney(descriptor, verbose=False):\n",
        "  # https://machinelearningmastery.com/nonparametric-statistical-significance-tests-in-python/\n",
        "  from numpy.random import seed\n",
        "  from numpy.random import randn\n",
        "  from scipy.stats import mannwhitneyu\n",
        "\n",
        "# seed the random number generator\n",
        "  seed(1)\n",
        "# actives and inactives\n",
        "  selection = [descriptor, 'class']\n",
        "  df = df_2class[selection]\n",
        "  active = df[df['class'] == 'active']\n",
        "  active = active[descriptor]\n",
        "\n",
        "  selection = [descriptor, 'class']\n",
        "  df = df_2class[selection]\n",
        "  inactive = df[df['class'] == 'inactive']\n",
        "  inactive = inactive[descriptor]\n",
        "\n",
        "# compare samples\n",
        "  stat, p = mannwhitneyu(active, inactive)\n",
        "  #print('Statistics=%.3f, p=%.3f' % (stat, p))\n",
        "\n",
        "# interpret\n",
        "  alpha = 0.05\n",
        "  if p > alpha:\n",
        "    interpretation = 'Same distribution (fail to reject H0)'\n",
        "  else:\n",
        "    interpretation = 'Different distribution (reject H0)'\n",
        "  \n",
        "  results = pd.DataFrame({'Descriptor':descriptor,\n",
        "                          'Statistics':stat,\n",
        "                          'p':p,\n",
        "                          'alpha':alpha,\n",
        "                          'Interpretation':interpretation}, index=[0])\n",
        "  filename = 'mannwhitneyu_' + descriptor + '.csv'\n",
        "  results.to_csv(filename)\n",
        "\n",
        "  return results"
      ],
      "execution_count": 32,
      "outputs": []
    },
    {
      "cell_type": "code",
      "metadata": {
        "colab": {
          "base_uri": "https://localhost:8080/",
          "height": 80
        },
        "id": "NlXuY14Ij6Qb",
        "outputId": "2e5d807b-9891-4107-dddc-97173dade84c"
      },
      "source": [
        "mannwhitney('pIC50')"
      ],
      "execution_count": 33,
      "outputs": [
        {
          "output_type": "execute_result",
          "data": {
            "text/html": [
              "<div>\n",
              "<style scoped>\n",
              "    .dataframe tbody tr th:only-of-type {\n",
              "        vertical-align: middle;\n",
              "    }\n",
              "\n",
              "    .dataframe tbody tr th {\n",
              "        vertical-align: top;\n",
              "    }\n",
              "\n",
              "    .dataframe thead th {\n",
              "        text-align: right;\n",
              "    }\n",
              "</style>\n",
              "<table border=\"1\" class=\"dataframe\">\n",
              "  <thead>\n",
              "    <tr style=\"text-align: right;\">\n",
              "      <th></th>\n",
              "      <th>Descriptor</th>\n",
              "      <th>Statistics</th>\n",
              "      <th>p</th>\n",
              "      <th>alpha</th>\n",
              "      <th>Interpretation</th>\n",
              "    </tr>\n",
              "  </thead>\n",
              "  <tbody>\n",
              "    <tr>\n",
              "      <th>0</th>\n",
              "      <td>pIC50</td>\n",
              "      <td>0.0</td>\n",
              "      <td>0.0</td>\n",
              "      <td>0.05</td>\n",
              "      <td>Different distribution (reject H0)</td>\n",
              "    </tr>\n",
              "  </tbody>\n",
              "</table>\n",
              "</div>"
            ],
            "text/plain": [
              "  Descriptor  Statistics    p  alpha                      Interpretation\n",
              "0      pIC50         0.0  0.0   0.05  Different distribution (reject H0)"
            ]
          },
          "metadata": {
            "tags": []
          },
          "execution_count": 33
        }
      ]
    },
    {
      "cell_type": "markdown",
      "metadata": {
        "id": "CYfYRgh8j_u3"
      },
      "source": [
        "### MW"
      ]
    },
    {
      "cell_type": "code",
      "metadata": {
        "colab": {
          "base_uri": "https://localhost:8080/",
          "height": 370
        },
        "id": "cVJlVTrKkDN0",
        "outputId": "916a71d1-16f0-4c0e-c79a-5a488197c3ec"
      },
      "source": [
        "plt.figure(figsize=(5.5, 5.5))\n",
        "\n",
        "sns.boxplot(x = 'class', y = 'MW', data = df_2class)\n",
        "\n",
        "plt.xlabel('Bioactivity class', fontsize=14, fontweight='bold')\n",
        "plt.ylabel('MW', fontsize=14, fontweight='bold')\n",
        "\n",
        "plt.savefig('plot_MW.pdf')"
      ],
      "execution_count": 34,
      "outputs": [
        {
          "output_type": "display_data",
          "data": {
            "image/png": "[encoded data removed]",
            "text/plain": [
              "<Figure size 396x396 with 1 Axes>"
            ]
          },
          "metadata": {
            "tags": []
          }
        }
      ]
    },
    {
      "cell_type": "code",
      "metadata": {
        "colab": {
          "base_uri": "https://localhost:8080/",
          "height": 80
        },
        "id": "JIl9iR0akkv4",
        "outputId": "5664e248-1b27-4e43-e89f-4dce1b377d0a"
      },
      "source": [
        "mannwhitney('MW')"
      ],
      "execution_count": 35,
      "outputs": [
        {
          "output_type": "execute_result",
          "data": {
            "text/html": [
              "<div>\n",
              "<style scoped>\n",
              "    .dataframe tbody tr th:only-of-type {\n",
              "        vertical-align: middle;\n",
              "    }\n",
              "\n",
              "    .dataframe tbody tr th {\n",
              "        vertical-align: top;\n",
              "    }\n",
              "\n",
              "    .dataframe thead th {\n",
              "        text-align: right;\n",
              "    }\n",
              "</style>\n",
              "<table border=\"1\" class=\"dataframe\">\n",
              "  <thead>\n",
              "    <tr style=\"text-align: right;\">\n",
              "      <th></th>\n",
              "      <th>Descriptor</th>\n",
              "      <th>Statistics</th>\n",
              "      <th>p</th>\n",
              "      <th>alpha</th>\n",
              "      <th>Interpretation</th>\n",
              "    </tr>\n",
              "  </thead>\n",
              "  <tbody>\n",
              "    <tr>\n",
              "      <th>0</th>\n",
              "      <td>MW</td>\n",
              "      <td>1058779.0</td>\n",
              "      <td>2.072256e-57</td>\n",
              "      <td>0.05</td>\n",
              "      <td>Different distribution (reject H0)</td>\n",
              "    </tr>\n",
              "  </tbody>\n",
              "</table>\n",
              "</div>"
            ],
            "text/plain": [
              "  Descriptor  Statistics  ...  alpha                      Interpretation\n",
              "0         MW   1058779.0  ...   0.05  Different distribution (reject H0)\n",
              "\n",
              "[1 rows x 5 columns]"
            ]
          },
          "metadata": {
            "tags": []
          },
          "execution_count": 35
        }
      ]
    },
    {
      "cell_type": "markdown",
      "metadata": {
        "id": "plwUzpbRknSr"
      },
      "source": [
        "### LogP"
      ]
    },
    {
      "cell_type": "code",
      "metadata": {
        "colab": {
          "base_uri": "https://localhost:8080/",
          "height": 367
        },
        "id": "aMMrkSPaklM_",
        "outputId": "11021186-6b78-4065-f084-d94b10424c4c"
      },
      "source": [
        "plt.figure(figsize=(5.5, 5.5))\n",
        "\n",
        "sns.boxplot(x = 'class', y = 'LogP', data = df_2class)\n",
        "\n",
        "plt.xlabel('Bioactivity class', fontsize=14, fontweight='bold')\n",
        "plt.ylabel('LogP', fontsize=14, fontweight='bold')\n",
        "\n",
        "plt.savefig('plot_LogP.pdf')"
      ],
      "execution_count": 36,
      "outputs": [
        {
          "output_type": "display_data",
          "data": {
            "image/png": "[encoded data removed]",
            "text/plain": [
              "<Figure size 396x396 with 1 Axes>"
            ]
          },
          "metadata": {
            "tags": []
          }
        }
      ]
    },
    {
      "cell_type": "markdown",
      "metadata": {
        "id": "NEoLQ45Zktil"
      },
      "source": [
        "### NumHDonors"
      ]
    },
    {
      "cell_type": "code",
      "metadata": {
        "colab": {
          "base_uri": "https://localhost:8080/",
          "height": 367
        },
        "id": "1uzL9kmzkulR",
        "outputId": "5b1c8982-67c9-4fac-f439-07dc17bdb4f0"
      },
      "source": [
        "plt.figure(figsize=(5.5, 5.5))\n",
        "\n",
        "sns.boxplot(x = 'class', y = 'LogP', data = df_2class)\n",
        "\n",
        "plt.xlabel('Bioactivity class', fontsize=14, fontweight='bold')\n",
        "plt.ylabel('LogP', fontsize=14, fontweight='bold')\n",
        "\n",
        "plt.savefig('plot_LogP.pdf')"
      ],
      "execution_count": 37,
      "outputs": [
        {
          "output_type": "display_data",
          "data": {
            "image/png": "[encoded data removed]",
            "text/plain": [
              "<Figure size 396x396 with 1 Axes>"
            ]
          },
          "metadata": {
            "tags": []
          }
        }
      ]
    },
    {
      "cell_type": "markdown",
      "metadata": {
        "id": "_9jd-FaHlRfZ"
      },
      "source": [
        "### Statistical analysis | Mann-Whitney U Test"
      ]
    },
    {
      "cell_type": "code",
      "metadata": {
        "colab": {
          "base_uri": "https://localhost:8080/",
          "height": 80
        },
        "id": "gzzSFg22lO2E",
        "outputId": "97b4181d-8bbf-4106-fc0c-763f60e0f92e"
      },
      "source": [
        "mannwhitney('NumHDonors')"
      ],
      "execution_count": 38,
      "outputs": [
        {
          "output_type": "execute_result",
          "data": {
            "text/html": [
              "<div>\n",
              "<style scoped>\n",
              "    .dataframe tbody tr th:only-of-type {\n",
              "        vertical-align: middle;\n",
              "    }\n",
              "\n",
              "    .dataframe tbody tr th {\n",
              "        vertical-align: top;\n",
              "    }\n",
              "\n",
              "    .dataframe thead th {\n",
              "        text-align: right;\n",
              "    }\n",
              "</style>\n",
              "<table border=\"1\" class=\"dataframe\">\n",
              "  <thead>\n",
              "    <tr style=\"text-align: right;\">\n",
              "      <th></th>\n",
              "      <th>Descriptor</th>\n",
              "      <th>Statistics</th>\n",
              "      <th>p</th>\n",
              "      <th>alpha</th>\n",
              "      <th>Interpretation</th>\n",
              "    </tr>\n",
              "  </thead>\n",
              "  <tbody>\n",
              "    <tr>\n",
              "      <th>0</th>\n",
              "      <td>NumHDonors</td>\n",
              "      <td>1361005.5</td>\n",
              "      <td>2.520096e-10</td>\n",
              "      <td>0.05</td>\n",
              "      <td>Different distribution (reject H0)</td>\n",
              "    </tr>\n",
              "  </tbody>\n",
              "</table>\n",
              "</div>"
            ],
            "text/plain": [
              "   Descriptor  Statistics  ...  alpha                      Interpretation\n",
              "0  NumHDonors   1361005.5  ...   0.05  Different distribution (reject H0)\n",
              "\n",
              "[1 rows x 5 columns]"
            ]
          },
          "metadata": {
            "tags": []
          },
          "execution_count": 38
        }
      ]
    },
    {
      "cell_type": "markdown",
      "metadata": {
        "id": "R_eeJSzMlbSz"
      },
      "source": [
        "### NumHAcceptors"
      ]
    },
    {
      "cell_type": "code",
      "metadata": {
        "colab": {
          "base_uri": "https://localhost:8080/",
          "height": 367
        },
        "id": "II6SNGTJlctO",
        "outputId": "3531adac-35f4-40ba-ec74-b5d4184b7e27"
      },
      "source": [
        "plt.figure(figsize=(5.5, 5.5))\n",
        "\n",
        "sns.boxplot(x = 'class', y = 'NumHAcceptors', data = df_2class)\n",
        "\n",
        "plt.xlabel('Bioactivity class', fontsize=14, fontweight='bold')\n",
        "plt.ylabel('NumHAcceptors', fontsize=14, fontweight='bold')\n",
        "\n",
        "plt.savefig('plot_NumHAcceptors.pdf')"
      ],
      "execution_count": 39,
      "outputs": [
        {
          "output_type": "display_data",
          "data": {
            "image/png": "[encoded data removed]",
            "text/plain": [
              "<Figure size 396x396 with 1 Axes>"
            ]
          },
          "metadata": {
            "tags": []
          }
        }
      ]
    },
    {
      "cell_type": "code",
      "metadata": {
        "colab": {
          "base_uri": "https://localhost:8080/",
          "height": 80
        },
        "id": "RVt_c7NPlg9L",
        "outputId": "b32ba4d6-78c7-49a9-98e7-1fdba8e658ed"
      },
      "source": [
        "mannwhitney('NumHAcceptors')"
      ],
      "execution_count": 40,
      "outputs": [
        {
          "output_type": "execute_result",
          "data": {
            "text/html": [
              "<div>\n",
              "<style scoped>\n",
              "    .dataframe tbody tr th:only-of-type {\n",
              "        vertical-align: middle;\n",
              "    }\n",
              "\n",
              "    .dataframe tbody tr th {\n",
              "        vertical-align: top;\n",
              "    }\n",
              "\n",
              "    .dataframe thead th {\n",
              "        text-align: right;\n",
              "    }\n",
              "</style>\n",
              "<table border=\"1\" class=\"dataframe\">\n",
              "  <thead>\n",
              "    <tr style=\"text-align: right;\">\n",
              "      <th></th>\n",
              "      <th>Descriptor</th>\n",
              "      <th>Statistics</th>\n",
              "      <th>p</th>\n",
              "      <th>alpha</th>\n",
              "      <th>Interpretation</th>\n",
              "    </tr>\n",
              "  </thead>\n",
              "  <tbody>\n",
              "    <tr>\n",
              "      <th>0</th>\n",
              "      <td>NumHAcceptors</td>\n",
              "      <td>1407572.5</td>\n",
              "      <td>0.000004</td>\n",
              "      <td>0.05</td>\n",
              "      <td>Different distribution (reject H0)</td>\n",
              "    </tr>\n",
              "  </tbody>\n",
              "</table>\n",
              "</div>"
            ],
            "text/plain": [
              "      Descriptor  Statistics  ...  alpha                      Interpretation\n",
              "0  NumHAcceptors   1407572.5  ...   0.05  Different distribution (reject H0)\n",
              "\n",
              "[1 rows x 5 columns]"
            ]
          },
          "metadata": {
            "tags": []
          },
          "execution_count": 40
        }
      ]
    },
    {
      "cell_type": "markdown",
      "metadata": {
        "id": "kd8XqVIglkJz"
      },
      "source": [
        "### Interpretation of Statistical Results\n",
        "\n",
        "**Box Plots**\n",
        "\n",
        "*pIC50 values*\n",
        "\n",
        "Taking a look at pIC50 values, the actives and inactives displayed statistically significant difference, which is to be expected since threshold values (IC50 < 1,000 nM = Actives while IC50 > 10,000 nM = Inactives, corresponding to pIC50 > 6 = Actives and pIC50 < 5 = Inactives) were used to define actives and inactives.\n",
        "\n",
        "**Lipinski's descriptors**\n",
        "\n",
        "All of the 4 Lipinski's descriptors exhibited statistically significant difference between the actives and inactives."
      ]
    },
    {
      "cell_type": "markdown",
      "metadata": {
        "id": "NbyDgQn9l3A2"
      },
      "source": [
        "### Zip files"
      ]
    },
    {
      "cell_type": "code",
      "metadata": {
        "colab": {
          "base_uri": "https://localhost:8080/"
        },
        "id": "76qyMbLhlylU",
        "outputId": "ec030224-e181-47b7-b222-edda94f9398e"
      },
      "source": [
        "! zip -r results.zip . -i *.csv *.pdf"
      ],
      "execution_count": 41,
      "outputs": [
        {
          "output_type": "stream",
          "text": [
            "  adding: acetylcholinesterase_05_bioactivity_data_2class_pIC50.csv (deflated 76%)\n",
            "  adding: plot_bioactivity_class.pdf (deflated 39%)\n",
            "  adding: mannwhitneyu_MW.csv (deflated 10%)\n",
            "  adding: plot_NumHAcceptors.pdf (deflated 38%)\n",
            "  adding: acetylcholinesterase_04_bioactivity_data_3class_pIC50.csv (deflated 76%)\n",
            "  adding: mannwhitneyu_NumHDonors.csv (deflated 11%)\n",
            "  adding: acetylcholinesterase_03_bioactivity_data_curated.csv (deflated 82%)\n",
            "  adding: mannwhitneyu_pIC50.csv (deflated 14%)\n",
            "  adding: plot_MW_vs_LogP.pdf (deflated 2%)\n",
            "  adding: plot_LogP.pdf (deflated 37%)\n",
            "  adding: mannwhitneyu_NumHAcceptors.csv (deflated 11%)\n",
            "  adding: plot_MW.pdf (deflated 38%)\n",
            "  adding: plot_ic50.pdf (deflated 37%)\n"
          ],
          "name": "stdout"
        }
      ]
    }
  ]
}