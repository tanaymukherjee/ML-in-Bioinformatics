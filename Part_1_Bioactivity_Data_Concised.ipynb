{
  "nbformat": 4,
  "nbformat_minor": 0,
  "metadata": {
    "colab": {
      "name": "Part_1_Bioactivity_Data_Concised.ipynb",
      "provenance": [],
      "collapsed_sections": [],
      "authorship_tag": "ABX9TyPMVCrVlQdFg4adUXQLDRPa",
      "include_colab_link": true
    },
    "kernelspec": {
      "name": "python3",
      "display_name": "Python 3"
    },
    "language_info": {
      "name": "python"
    }
  },
  "cells": [
    {
      "cell_type": "markdown",
      "metadata": {
        "id": "view-in-github",
        "colab_type": "text"
      },
      "source": [
        "<a href=\"https://colab.research.google.com/github/tanaymukherjee/ML-in-Bioinformatics/blob/main/Part_1_Bioactivity_Data_Concised.ipynb\" target=\"_parent\"><img src=\"https://colab.research.google.com/assets/colab-badge.svg\" alt=\"Open In Colab\"/></a>"
      ]
    },
    {
      "cell_type": "code",
      "metadata": {
        "id": "2TWRmUVaqgy2"
      },
      "source": [
        "import pandas as pd\n",
        "\n",
        "url = 'https://raw.githubusercontent.com/tanaymukherjee/ML-in-Bioinformatics/main/Datafiles/acetylcholinesterase_01_bioactivity_data_raw.csv'"
      ],
      "execution_count": 14,
      "outputs": []
    },
    {
      "cell_type": "code",
      "metadata": {
        "colab": {
          "base_uri": "https://localhost:8080/"
        },
        "id": "3WsEKlmLqznc",
        "outputId": "7c5bf8cc-dafd-485d-9a1b-d658767abc62"
      },
      "source": [
        "df = pd.read_csv(url,index_col=0)\n",
        "print(df.head(5))"
      ],
      "execution_count": 15,
      "outputs": [
        {
          "output_type": "stream",
          "text": [
            "                  activity_id activity_properties  ... upper_value  value\n",
            "activity_comment                                   ...                   \n",
            "NaN                     33969                  []  ...         NaN   0.75\n",
            "NaN                     37563                  []  ...         NaN   0.10\n",
            "NaN                     37565                  []  ...         NaN  50.00\n",
            "NaN                     38902                  []  ...         NaN   0.30\n",
            "NaN                     41170                  []  ...         NaN   0.80\n",
            "\n",
            "[5 rows x 42 columns]\n"
          ],
          "name": "stdout"
        }
      ]
    }
  ]
}